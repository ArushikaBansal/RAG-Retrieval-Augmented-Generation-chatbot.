{
  "cells": [
    {
      "cell_type": "code",
      "execution_count": 1,
      "metadata": {
        "id": "lOhfjFAtacjr"
      },
      "outputs": [],
      "source": [
        "file_path = '/content/KnowledgeDocument(pan_card_services).txt'\n",
        "try:\n",
        "    with open(file_path, 'r') as file:\n",
        "        content = file.read()\n",
        "        # print(content)\n",
        "except FileNotFoundError:\n",
        "    print(\"File not found.\")\n",
        "except IOError:\n",
        "    print(\"Error reading the file.\")"
      ]
    },
    {
      "cell_type": "code",
      "execution_count": 2,
      "metadata": {
        "colab": {
          "base_uri": "https://localhost:8080/",
          "height": 244
        },
        "id": "_eL9k90uavq4",
        "outputId": "c17bcc2d-b65a-46af-ae76-9c6a0dc93ceb"
      },
      "outputs": [
        {
          "output_type": "execute_result",
          "data": {
            "text/plain": [
              "\"# About Pan Card\\n\\n### What is Pan card?\\n\\nThe PAN card is a unique ten-digit alphanumeric identification number that is issued by the Income Tax Department of India to track the tax-related transactions of individuals and entities. The PAN card is mandatory for any financial transaction in India, including opening a bank account, buying or selling property, and filing income tax returns.\\n\\n### Who needs a Pan card?\\n\\nAll individuals/non-individuals (including foreign citizens/entities) earning taxable income in India\\xa0must have a PAN card.\\n\\n### Types of PAN cards\\n\\nIn India, two types of PAN cards are available: e-PAN card and physical PAN card.\\n\\n1. e-PAN card: An e-PAN card is a digitally-signed PAN card issued in electronic format. It contains the same PAN details as a physical PAN card but is available in a digital format. It can be downloaded online and used as a valid identification document for various purposes. The e-PAN card is usually issued in a PDF format.\\n2. Physical PAN card: A physical PAN card is a laminated card with your PAN details printed on it. It is a physical document that can be carried and used as a valid identification proof. The physical PAN card is sent to the applicant's registered address by post.\\n\\nBoth e-PAN and physical PAN cards have the same validity and can be used for identification purposes. The choice between the two depends on the applicant's preference and requirements.\\n\\n### **Why do NRIs need PAN card?**\\n\\nNRIS don’t need to have a PAN Card. However, a PAN Card is necessary for NRIs if they wish to do any of the following in India:\\n\\n1. A PAN card is required to carry out financial transactions such as opening a bank account, investing in stocks, purchasing or selling property, and investing in India.\\n\\n2. If an NRI earns an income in India, they must file income tax returns. A PAN card is necessary to file these returns.\\n\\n3. If an NRI wants to invest in mutual funds in India, they must have a PAN card.\\n\\n## Importance of PAN card for different NRI account options\\n\\nNRI Accounts comprise of NRE,NRO and FCNR Accounts. A basic overview to understand the importance of PAN Card with respect to these three accounts can be understood as:\\n\\n**NRE:**\\xa0For funds earned outside India where both Principal and Interest earned are tax-free. Therefore, NRIs can opt for Form 60, which is a substitute for PAN for opening an NRE Account.\\n\\n**NRO:**\\xa0For funds earned in India which are mostly liable to taxes. Income such as rent or pension where\\xa0taxes are not deducted at source\\xa0are deposited in an NRO Account. Therefore, a\\xa0PAN Card is mandatory for NRO Accounts.\\n\\n**FCNR:**\\xa0For foreign currency term deposits from outside India. Again, the principal and interest are tax-free, so usage of a PAN Card is not necessary and can be substituted with Form 60.\\n\\n---\\n\\n# PAN Card Application Process\\n\\n## New Pan Card\\n\\n### How can NRI apply for a new PAN card\\n\\nHere are the steps for *PAN CARD* processing. \\n\\n- Visit ABC app\\n- Navigate to Services > NRI Pan Card > Apply New PAN\\n- Select the required form of PAN card and proceed with the payment\\n- Our team will get in touch with you to ask for the following documents:\\n    - Passport(Any Country) / OCI Card\\n    - Passport Size Photograph\\n    - Overseas address proof with zip code (Supporting documents - Indian NRO/NRE Account statement or Overseas bank statement or Utility bill)\\n\\n### Documents required for a new PAN Card\\n\\n**If you have Aadhaar card**\\n\\nNo other document is required. You can get your pan card through your Aadhaar card in 10 minutes.\\n\\n**If you don’t have an Aadhaar card**\\n\\n- Passport(Any Country) / OCI Card\\n- Passport Size Photograph\\n- Overseas address proof with zip code (Supporting documents - Indian NRO/NRE Account statement or Overseas bank statement or Utility bill)\\n\\n### Cost of new PAN card\\n\\nThe PAN CARD Application through ABC costs Rs 2500 for E-PAN, and if you want it to be couriered, it will cost Rs 1200 extra for physical delivery to your address.\\n\\n- e-PAN Card cost: INR 2500\\n- Physical PAN Card cost: INR 3700\\n\\n### Time required to issue PAN card\\n\\n****If you have Aadhaar card****\\n\\nYou can get a Pan Card instantly\\xa0**(in under 10 minutes)**, if you have an Aadhaar card. You can apply through ABC.\\n\\n********************************************************************If you don’t have an Aadhaar card********************************************************************\\n\\nOnce the payment is made to ABC, we will contact you and initiate the process. Pan card will be issued in 3 weeks.\\n\\n## Updation/Correction in the PAN Card\\n\\n### Information that can be updated in the PAN Card\\n\\n- Your name\\n- Father’s name\\n- Date of Birth\\n- Citizenship\\n- Photograph\\n- Signature\\n- Gender\\n- Address\\n- Contact details\\n\\n### General process to update details on PAN Card\\n\\nTo update the details on your PAN card, you have to generate the reissue request for the Updation/ Correction of the PAN CARD. Follow the steps:\\n\\n- Go to ABC app\\n- Navigate to Services > NRI PAN Card > PAN Card Correction\\n- Request reissue the required PAN card and make the payment\\n- Our team will reachout to you for the required documents\\n\\nDo you want to start the process here instead? Click the button below.\\n\\n**Time required to complete the correction process for the PAN card:** The duration to complete the correction process for your PAN card can vary, but it generally takes around 2-3 weeks. \\n\\n### Documents required to update the details on PAN Card\\n\\nTo update the information on the PAN card, kindly keep these documents ready.\\n\\n- Copy of Existing Pan card\\n- Passport(Any Country) / OCI Card\\n- Passport Size Photograph\\n- Overseas address proof with zip code (Supporting documents - Indian NRO/NRE Account statement or Overseas bank statement or Utility bill)\\n\\n### Documents required to update the address on PAN Card\\n\\n- Passport\\n- OCI Card\\n- Bank Account Statement in the country of residence\\n- NRE Bank Account Statement in India\\n- Residential Permit\\n\\n### ******************************************************************Process to change the citizenship on PAN Card******************************************************************\\n\\nNo direct provisions exist to change citizenship in a Pan Card as the\\xa0**PAN Card**\\xa0doesn’t display your citizenship. It is a document required to file taxes, carry out investments and do transactions in India, whether you are a citizen, NRI, or OCI.\\n\\nTo change the citizenship in a PAN card, you must meet and notify your jurisdictional Assessing Officer. For NRIs, it is not easy to meet the assessing officer. However, ABC can meet or notify the jurisdictional assessing officer on your behalf. Contact a tax expert at ABC to change your citizenship on PAN card.\\n\\n**Time required to update the citizenship status:** Generally, it takes around a month to complete the process, but the duration can vary based on factors such as workload and the authorities' responsiveness.\\n\\n## Reprinting lost Aadhaar Card\\n\\nTo reprint your PAN card, you need to follow a specific procedure that involves providing certain documents and information to authenticate your identity. The process can take around 2-3 weeks to complete. You can apply for a reprint through ABC. We will guide you through the process and help you obtain a new copy of your PAN card.\\n\\n### Documents required for reprinting the lost PAN card\\n\\n1. **If you remember your PAN number:**\\n- Pan number\\n- Passport(Any Country) / OCI Card\\n- Passport Size Photograph\\n- Overseas address proof with zip code (Supporting documents - Indian NRO/NRE Account statement or Overseas bank statement or Utility bill)\\n2. **If you don’t remember your PAN number:**\\nThis gets tricky in most cases so our representative will reach out to you to inform you about the process.\\n\\nDo you remember your PAN card number?\\n\\n### C**harges for reprinting the PAN Card**\\n\\nThe charges for reprinting the PAN Card are INR 2500 for e-pan, and INR 3700 for physical pan card.\\n\\n---\\n\\n## Linking PAN with Aadhaar card\\n\\nABC can link your PAN card and Aadhaar card on your behalf. \\n\\n### Process to link PAN with Aadhaar\\n\\n- Go to ABC app\\n- Navigate to Services > NRI PAN Card > Link PAN with Aadhaar\\n- Request reissue the required PAN card and make the payment\\n- Our team will reach out to you for the required documents\\n\\nAlternatively, you can also initiate the process on WhatsApp as well.\\n\\n### ABC fees to link PAN with Aadhaar\\n\\nThe charges for linking Pan & Aadhaar is INR 2000/-, including the penalty charges to be paid for the delay in linking Pan & Aadhaar.\\n\\n### **Documents required** to link PAN with Aadhaar\\n\\nKindly share a copy of your pan card and Aadhaar card. ABC will review the documents and share a payment link for the linking.\\n\\nNew Deadline for linking Aadhaar with pan card 30 June 2023. PAN will become inoperative after June 2023 if not linked to Aadhaar.\\n\\n### Time required **for PAN Aadhaar link for NRI?**\\n\\nIt takes upto 6 to 7 days for PAN Aadhaar linking for NRIs.\\n\\n---\\n\\n# Form 49AA\\n\\n### **What is Form 49aa?**\\n\\nForm 49AA is the application form for the allotment of Permanent Account Number for Foreign residents and entities incorporated outside India.\\n\\n### **Documents Required for Form 49AA**\\n\\nHere are the necessary documents that are supposed to be submitted along with PAN Card Form 49AA\\n\\n1. Passport\\n2. PIO card issued by Government of India\\n3. OCI card issued by Government of India\\n4. Other national/citizenship Identification Number/Taxpayer Identification Number duly attested by “Apostille” or by the Indian Embassy/High Commission/Consulate in the country where the applicant is located or authorized officials of overseas branches of Scheduled Banks registered in India.\\n5. Bank account statement in the country of residence\\n6. NRE bank account statement in India\\n7. Certificate of Residence in India or Residential permit issued by the State Police Authorities\\n8. Registration certificate issued by the Foreigner’s Registration Office showing Indian address\\n9. Visa granted and Copy of appointment letter/ contract from Indian Company & Certificate (in original) of Indian address issued by the employer\\n\\n---\\n\\n# FAQs about PAN Card\\n\\nI**s it mandatory to link Aadhaar with PAN for NRI?**\\n\\nNo, Aadhaar and PAN linking is optional for NRIs. However, to avoid any legal complications in India, NRIs should either link their PAN to Aadhaar, or update their status as non-resident.\\n\\n**Is PAN card different for NRI?**\\n\\nNo, PAN works completely the same way for both NRI and Resident Indian except for one factor – the type of Application Form alone changes with respect to your current Residential Status. A PAN is mandatory when filing an Income-Tax return,\\xa0TDS\\xa0or any transaction that attracts tax. \\n\\n**Can I apply for pan card from USA?**\\n\\nYes. You can apply for a PAN Card from the USA. The easiest and most convenient way to apply for a PAN card from the USA is through ABC. \\n\\n**Is a PAN card mandatory for an NRI bank account?**\\n\\nNo, in the absence of the Pan Card,\\xa0**NRIs can sign Form 60**\\xa0[Form 60 is a declaration to be filed by an individual or a person (not being a company or firm) who does not have a Permanent Account Number (PAN) and who in involved in any transaction] to open an NRI Account.\\n\\n**Can OCI holders get PAN card?**\\n\\nYes, NRIs who hold foreign citizenship, such as\\xa0OCI\\xa0holders or people of Indian origin who possess foreign citizenship or foreigners who are not of Indian origin, can get PAN card through Form 49AA.\\n\\n**Can an NRI buy property in India without PAN card?**\\n\\nNo, A\\xa0[PAN card](https://ABC.com/blog/nri-income-tax/uses-of-a-pan-card-for-nris)\\xa0is mandatory to buy property in India. NRIs need a PAN card because they will be required to file income tax returns if they have rented out the property. Besides, if the property is sold later, the capital gains resulting from the sales would be subject to capital gains tax. \\n\\n**What is the difference between an NRI PAN card and normal PAN card?**\\n\\nThere is no difference between an NRI PAN card and normal PAN card. An\\xa0[NRI PAN card is the same as a PAN card issued to individuals living in India](https://ABC.com/blog/nri-bank-accounts/what-is-the-difference-between-an-nri-pan-card-and-a-normal-pan-card#:~:text=There%20is%20only%20one%20Pan,to%20Indian%20Residents%20and%20NRIs.). However, to apply for a PAN card for OCI or people of Indian origin who hold foreign citizenship, an applicant is required to fill Form 49AA.\\n\\n**Is a PAN card mandatory for NRI?**\\n\\nPAN is not compulsory for all NRIs. A PAN card is mandatory for NRIs with a source of income in India to file their taxes or if they want to invest in stocks or mutual funds in India.\\n\\n**What is the difference between PAN card and Form 60?**\\n\\nThe\\xa0**basic difference**\\xa0between a PAN Card and\\xa0[Form 60](https://www.incometaxindia.gov.in/forms/income-tax%20rules/103120000000007944.pdf)\\xa0is that you can only sign and use the Form 60 to open a bank account but in order to file taxes and carry out investments from that account, a Pan Card is mandatory.\\n\\n**Can I get a new PAN card as a Canadian citizen?**\\n\\nNo, it is illegal to possess multiple PAN cards. As a Canadian citizen, you cannot obtain a new PAN card. Instead, you should update your citizenship status in the existing PAN card.\\n\\n**Can I perform KYC for my father's mutual funds with an NRI PAN card?**\\n\\nYou can use your NRI PAN card to perform KYC (Know Your Customer) for your father's mutual funds. However, ensuring that your PAN card reflects your updated citizenship status is crucial. You need to complete updating your citizenship in the PAN database before using it for any financial transactions or KYC requirements.\\n\\n**Can the new PAN card be dispatched to my Canadian address?**\\n\\nYes, the PAN card can be delivered to your overseas address, including your Canadian address. While applying for a new PAN card or requesting corrections, you can provide your Canadian address as the delivery address. Make sure to provide accurate and complete address details to ensure successful delivery.\\n\\n**What documents are required for updating citizenship on the PAN card?**\\n\\nTo update your citizenship status, you must provide documents such as your foreign passport, revoked Indian passport (if applicable), and a citizenship renunciation letter (if you have renounced Indian citizenship). \\n\\n**Can an overseas driving license be considered as a valid address proof for the PAN card?**\\n\\nNo, an overseas driving license is generally not considered a valid address proof for the PAN card. Instead, you can provide alternative documents such as bank statements or credit card statements that contain your overseas address as proof of address while applying for corrections or updating your PAN card.\\n\\n**How can I make the payment for the PAN card correction process?**\\n\\nDuring the PAN card correction process, you will be either provided with a payment link or taken to Razorpay page. Razorpay is a secure online platform where you can make the payment conveniently using various payment options such as credit/debit cards, net banking, or digital wallets. Make sure to follow the instructions provided and ensure the payment is made within the specified timeframe.\\n\\n**Can I link aadhaar card and PAN card even if there is minor difference in my name in both?**\\n\\nIt is important for the date of birth (DOB) to be the same on both the PAN and Aadhaar documents. However, minor differences in the name should not pose an issue.\\n\\n**Can NRIs make the payment for the process using an Indian bank account?**\\n\\nYes, NRIs can make the payment through their Indian bank accounts. However, it is worth noting that paying in Indian Rupees (INR) may be costlier due to the application of 18% GST.\\n\\n**Is it possible to make the payment for the process using a cheque?**\\n\\nNo, ABC only accepts online payments for the linking process and does not accept cheques.\\n\\n**What payment options are available for NRIs?**\\n\\nNRIs can make the payment using their debit or credit cards or through their international cards.\\n\\n**Can NRIs residing in the USA link their PAN and Aadhaar cards without visiting India?**\\n\\nYes, NRIs residing in the USA can link their PAN and Aadhaar cards without the need to visit India. ABC can assist them digitally.\\n\\n**How can NRIs share their PAN and Aadhaar card details with ABC for the linking process?**\\n\\nNRIs can share their PAN and Aadhaar card details by providing clear images of the documents to ABC. Blurry or unclear images may require re-submission for verification.\\n\\n**Can NRIs use an international card for making the payment?**\\n\\nYes, NRIs can use their international debit or credit cards to make the payment for the linking process.\\n\\n**Is it necessary to download the ABC app or visit their website for the payment process**\\n\\nNo, it is not necessary to download the ABC app or visit their website for the payment process. The payment link provided by ABC can be accessed directly to make the payment.\\n\\n**Can I apply for pan card without Aadhaar?**\\n\\nYes, NRIs can apply for a PAN card without an Aadhaar Card? They can simply do so by filling out either of the forms – 49A (for citizens of India) or Form 49AA (for foreign citizens).\\n\\n**Can I apply for a PAN card if I am a non-resident Indian (NRI)?**\\n\\nYes, as an NRI, you can apply for a PAN card. The process for applying for a PAN card is the same for both residents and NRIs. However, if you are an OCI holder or a person of Indian origin who holds foreign citizenship, you will need to fill Form 49AA to apply for a PAN card.\\n\\n**Can I take the delivery of Pan card at Indian address?**\\n\\nYes, you can take the delivery of your PAN card only at an Indian address mentioned in your Aadhaar card. While applying for a new PAN card or requesting corrections, you can provide your Indian address as the delivery address. Make sure to provide accurate and complete address details to ensure successful delivery.\\n\""
            ],
            "application/vnd.google.colaboratory.intrinsic+json": {
              "type": "string"
            }
          },
          "metadata": {},
          "execution_count": 2
        }
      ],
      "source": [
        "content"
      ]
    },
    {
      "cell_type": "code",
      "source": [
        "def convert_to_title_and_passage(text):\n",
        "    title = None\n",
        "    passages = []\n",
        "\n",
        "    lines = text.split(\"\\n\")\n",
        "    current_passage = \"\"\n",
        "\n",
        "    for line in lines:\n",
        "        if line.startswith(\"# \"):\n",
        "            # Save the previous passage if exists\n",
        "            if title is not None and current_passage.strip() != \"\":\n",
        "                passages.append((title, current_passage.strip()))\n",
        "                current_passage = \"\"\n",
        "\n",
        "            # Extract the title\n",
        "            title = line[2:].strip()\n",
        "        else:\n",
        "            current_passage += line + \"\\n\"\n",
        "\n",
        "    # Save the last passage\n",
        "    if title is not None and current_passage.strip() != \"\":\n",
        "        passages.append((title, current_passage.strip()))\n",
        "\n",
        "    return passages\n",
        "\n",
        "# Example usage:\n",
        "document_text = content\n",
        "\n",
        "title_passage_pairs = convert_to_title_and_passage(document_text)\n",
        "for title, passage in title_passage_pairs:\n",
        "    print(\"Title:\", title)\n",
        "    print(\"Passage:\", passage)\n",
        "    print()\n"
      ],
      "metadata": {
        "colab": {
          "base_uri": "https://localhost:8080/"
        },
        "id": "XXQ162Bulp_P",
        "outputId": "4677888f-5692-49ed-da58-0a322e5183d7"
      },
      "execution_count": 3,
      "outputs": [
        {
          "output_type": "stream",
          "name": "stdout",
          "text": [
            "Title: About Pan Card\n",
            "Passage: ### What is Pan card?\n",
            "\n",
            "The PAN card is a unique ten-digit alphanumeric identification number that is issued by the Income Tax Department of India to track the tax-related transactions of individuals and entities. The PAN card is mandatory for any financial transaction in India, including opening a bank account, buying or selling property, and filing income tax returns.\n",
            "\n",
            "### Who needs a Pan card?\n",
            "\n",
            "All individuals/non-individuals (including foreign citizens/entities) earning taxable income in India must have a PAN card.\n",
            "\n",
            "### Types of PAN cards\n",
            "\n",
            "In India, two types of PAN cards are available: e-PAN card and physical PAN card.\n",
            "\n",
            "1. e-PAN card: An e-PAN card is a digitally-signed PAN card issued in electronic format. It contains the same PAN details as a physical PAN card but is available in a digital format. It can be downloaded online and used as a valid identification document for various purposes. The e-PAN card is usually issued in a PDF format.\n",
            "2. Physical PAN card: A physical PAN card is a laminated card with your PAN details printed on it. It is a physical document that can be carried and used as a valid identification proof. The physical PAN card is sent to the applicant's registered address by post.\n",
            "\n",
            "Both e-PAN and physical PAN cards have the same validity and can be used for identification purposes. The choice between the two depends on the applicant's preference and requirements.\n",
            "\n",
            "### **Why do NRIs need PAN card?**\n",
            "\n",
            "NRIS don’t need to have a PAN Card. However, a PAN Card is necessary for NRIs if they wish to do any of the following in India:\n",
            "\n",
            "1. A PAN card is required to carry out financial transactions such as opening a bank account, investing in stocks, purchasing or selling property, and investing in India.\n",
            "\n",
            "2. If an NRI earns an income in India, they must file income tax returns. A PAN card is necessary to file these returns.\n",
            "\n",
            "3. If an NRI wants to invest in mutual funds in India, they must have a PAN card.\n",
            "\n",
            "## Importance of PAN card for different NRI account options\n",
            "\n",
            "NRI Accounts comprise of NRE,NRO and FCNR Accounts. A basic overview to understand the importance of PAN Card with respect to these three accounts can be understood as:\n",
            "\n",
            "**NRE:** For funds earned outside India where both Principal and Interest earned are tax-free. Therefore, NRIs can opt for Form 60, which is a substitute for PAN for opening an NRE Account.\n",
            "\n",
            "**NRO:** For funds earned in India which are mostly liable to taxes. Income such as rent or pension where taxes are not deducted at source are deposited in an NRO Account. Therefore, a PAN Card is mandatory for NRO Accounts.\n",
            "\n",
            "**FCNR:** For foreign currency term deposits from outside India. Again, the principal and interest are tax-free, so usage of a PAN Card is not necessary and can be substituted with Form 60.\n",
            "\n",
            "---\n",
            "\n",
            "Title: PAN Card Application Process\n",
            "Passage: ## New Pan Card\n",
            "\n",
            "### How can NRI apply for a new PAN card\n",
            "\n",
            "Here are the steps for *PAN CARD* processing. \n",
            "\n",
            "- Visit ABC app\n",
            "- Navigate to Services > NRI Pan Card > Apply New PAN\n",
            "- Select the required form of PAN card and proceed with the payment\n",
            "- Our team will get in touch with you to ask for the following documents:\n",
            "    - Passport(Any Country) / OCI Card\n",
            "    - Passport Size Photograph\n",
            "    - Overseas address proof with zip code (Supporting documents - Indian NRO/NRE Account statement or Overseas bank statement or Utility bill)\n",
            "\n",
            "### Documents required for a new PAN Card\n",
            "\n",
            "**If you have Aadhaar card**\n",
            "\n",
            "No other document is required. You can get your pan card through your Aadhaar card in 10 minutes.\n",
            "\n",
            "**If you don’t have an Aadhaar card**\n",
            "\n",
            "- Passport(Any Country) / OCI Card\n",
            "- Passport Size Photograph\n",
            "- Overseas address proof with zip code (Supporting documents - Indian NRO/NRE Account statement or Overseas bank statement or Utility bill)\n",
            "\n",
            "### Cost of new PAN card\n",
            "\n",
            "The PAN CARD Application through ABC costs Rs 2500 for E-PAN, and if you want it to be couriered, it will cost Rs 1200 extra for physical delivery to your address.\n",
            "\n",
            "- e-PAN Card cost: INR 2500\n",
            "- Physical PAN Card cost: INR 3700\n",
            "\n",
            "### Time required to issue PAN card\n",
            "\n",
            "****If you have Aadhaar card****\n",
            "\n",
            "You can get a Pan Card instantly **(in under 10 minutes)**, if you have an Aadhaar card. You can apply through ABC.\n",
            "\n",
            "********************************************************************If you don’t have an Aadhaar card********************************************************************\n",
            "\n",
            "Once the payment is made to ABC, we will contact you and initiate the process. Pan card will be issued in 3 weeks.\n",
            "\n",
            "## Updation/Correction in the PAN Card\n",
            "\n",
            "### Information that can be updated in the PAN Card\n",
            "\n",
            "- Your name\n",
            "- Father’s name\n",
            "- Date of Birth\n",
            "- Citizenship\n",
            "- Photograph\n",
            "- Signature\n",
            "- Gender\n",
            "- Address\n",
            "- Contact details\n",
            "\n",
            "### General process to update details on PAN Card\n",
            "\n",
            "To update the details on your PAN card, you have to generate the reissue request for the Updation/ Correction of the PAN CARD. Follow the steps:\n",
            "\n",
            "- Go to ABC app\n",
            "- Navigate to Services > NRI PAN Card > PAN Card Correction\n",
            "- Request reissue the required PAN card and make the payment\n",
            "- Our team will reachout to you for the required documents\n",
            "\n",
            "Do you want to start the process here instead? Click the button below.\n",
            "\n",
            "**Time required to complete the correction process for the PAN card:** The duration to complete the correction process for your PAN card can vary, but it generally takes around 2-3 weeks. \n",
            "\n",
            "### Documents required to update the details on PAN Card\n",
            "\n",
            "To update the information on the PAN card, kindly keep these documents ready.\n",
            "\n",
            "- Copy of Existing Pan card\n",
            "- Passport(Any Country) / OCI Card\n",
            "- Passport Size Photograph\n",
            "- Overseas address proof with zip code (Supporting documents - Indian NRO/NRE Account statement or Overseas bank statement or Utility bill)\n",
            "\n",
            "### Documents required to update the address on PAN Card\n",
            "\n",
            "- Passport\n",
            "- OCI Card\n",
            "- Bank Account Statement in the country of residence\n",
            "- NRE Bank Account Statement in India\n",
            "- Residential Permit\n",
            "\n",
            "### ******************************************************************Process to change the citizenship on PAN Card******************************************************************\n",
            "\n",
            "No direct provisions exist to change citizenship in a Pan Card as the **PAN Card** doesn’t display your citizenship. It is a document required to file taxes, carry out investments and do transactions in India, whether you are a citizen, NRI, or OCI.\n",
            "\n",
            "To change the citizenship in a PAN card, you must meet and notify your jurisdictional Assessing Officer. For NRIs, it is not easy to meet the assessing officer. However, ABC can meet or notify the jurisdictional assessing officer on your behalf. Contact a tax expert at ABC to change your citizenship on PAN card.\n",
            "\n",
            "**Time required to update the citizenship status:** Generally, it takes around a month to complete the process, but the duration can vary based on factors such as workload and the authorities' responsiveness.\n",
            "\n",
            "## Reprinting lost Aadhaar Card\n",
            "\n",
            "To reprint your PAN card, you need to follow a specific procedure that involves providing certain documents and information to authenticate your identity. The process can take around 2-3 weeks to complete. You can apply for a reprint through ABC. We will guide you through the process and help you obtain a new copy of your PAN card.\n",
            "\n",
            "### Documents required for reprinting the lost PAN card\n",
            "\n",
            "1. **If you remember your PAN number:**\n",
            "- Pan number\n",
            "- Passport(Any Country) / OCI Card\n",
            "- Passport Size Photograph\n",
            "- Overseas address proof with zip code (Supporting documents - Indian NRO/NRE Account statement or Overseas bank statement or Utility bill)\n",
            "2. **If you don’t remember your PAN number:**\n",
            "This gets tricky in most cases so our representative will reach out to you to inform you about the process.\n",
            "\n",
            "Do you remember your PAN card number?\n",
            "\n",
            "### C**harges for reprinting the PAN Card**\n",
            "\n",
            "The charges for reprinting the PAN Card are INR 2500 for e-pan, and INR 3700 for physical pan card.\n",
            "\n",
            "---\n",
            "\n",
            "## Linking PAN with Aadhaar card\n",
            "\n",
            "ABC can link your PAN card and Aadhaar card on your behalf. \n",
            "\n",
            "### Process to link PAN with Aadhaar\n",
            "\n",
            "- Go to ABC app\n",
            "- Navigate to Services > NRI PAN Card > Link PAN with Aadhaar\n",
            "- Request reissue the required PAN card and make the payment\n",
            "- Our team will reach out to you for the required documents\n",
            "\n",
            "Alternatively, you can also initiate the process on WhatsApp as well.\n",
            "\n",
            "### ABC fees to link PAN with Aadhaar\n",
            "\n",
            "The charges for linking Pan & Aadhaar is INR 2000/-, including the penalty charges to be paid for the delay in linking Pan & Aadhaar.\n",
            "\n",
            "### **Documents required** to link PAN with Aadhaar\n",
            "\n",
            "Kindly share a copy of your pan card and Aadhaar card. ABC will review the documents and share a payment link for the linking.\n",
            "\n",
            "New Deadline for linking Aadhaar with pan card 30 June 2023. PAN will become inoperative after June 2023 if not linked to Aadhaar.\n",
            "\n",
            "### Time required **for PAN Aadhaar link for NRI?**\n",
            "\n",
            "It takes upto 6 to 7 days for PAN Aadhaar linking for NRIs.\n",
            "\n",
            "---\n",
            "\n",
            "Title: Form 49AA\n",
            "Passage: ### **What is Form 49aa?**\n",
            "\n",
            "Form 49AA is the application form for the allotment of Permanent Account Number for Foreign residents and entities incorporated outside India.\n",
            "\n",
            "### **Documents Required for Form 49AA**\n",
            "\n",
            "Here are the necessary documents that are supposed to be submitted along with PAN Card Form 49AA\n",
            "\n",
            "1. Passport\n",
            "2. PIO card issued by Government of India\n",
            "3. OCI card issued by Government of India\n",
            "4. Other national/citizenship Identification Number/Taxpayer Identification Number duly attested by “Apostille” or by the Indian Embassy/High Commission/Consulate in the country where the applicant is located or authorized officials of overseas branches of Scheduled Banks registered in India.\n",
            "5. Bank account statement in the country of residence\n",
            "6. NRE bank account statement in India\n",
            "7. Certificate of Residence in India or Residential permit issued by the State Police Authorities\n",
            "8. Registration certificate issued by the Foreigner’s Registration Office showing Indian address\n",
            "9. Visa granted and Copy of appointment letter/ contract from Indian Company & Certificate (in original) of Indian address issued by the employer\n",
            "\n",
            "---\n",
            "\n",
            "Title: FAQs about PAN Card\n",
            "Passage: I**s it mandatory to link Aadhaar with PAN for NRI?**\n",
            "\n",
            "No, Aadhaar and PAN linking is optional for NRIs. However, to avoid any legal complications in India, NRIs should either link their PAN to Aadhaar, or update their status as non-resident.\n",
            "\n",
            "**Is PAN card different for NRI?**\n",
            "\n",
            "No, PAN works completely the same way for both NRI and Resident Indian except for one factor – the type of Application Form alone changes with respect to your current Residential Status. A PAN is mandatory when filing an Income-Tax return, TDS or any transaction that attracts tax. \n",
            "\n",
            "**Can I apply for pan card from USA?**\n",
            "\n",
            "Yes. You can apply for a PAN Card from the USA. The easiest and most convenient way to apply for a PAN card from the USA is through ABC. \n",
            "\n",
            "**Is a PAN card mandatory for an NRI bank account?**\n",
            "\n",
            "No, in the absence of the Pan Card, **NRIs can sign Form 60** [Form 60 is a declaration to be filed by an individual or a person (not being a company or firm) who does not have a Permanent Account Number (PAN) and who in involved in any transaction] to open an NRI Account.\n",
            "\n",
            "**Can OCI holders get PAN card?**\n",
            "\n",
            "Yes, NRIs who hold foreign citizenship, such as OCI holders or people of Indian origin who possess foreign citizenship or foreigners who are not of Indian origin, can get PAN card through Form 49AA.\n",
            "\n",
            "**Can an NRI buy property in India without PAN card?**\n",
            "\n",
            "No, A [PAN card](https://ABC.com/blog/nri-income-tax/uses-of-a-pan-card-for-nris) is mandatory to buy property in India. NRIs need a PAN card because they will be required to file income tax returns if they have rented out the property. Besides, if the property is sold later, the capital gains resulting from the sales would be subject to capital gains tax. \n",
            "\n",
            "**What is the difference between an NRI PAN card and normal PAN card?**\n",
            "\n",
            "There is no difference between an NRI PAN card and normal PAN card. An [NRI PAN card is the same as a PAN card issued to individuals living in India](https://ABC.com/blog/nri-bank-accounts/what-is-the-difference-between-an-nri-pan-card-and-a-normal-pan-card#:~:text=There%20is%20only%20one%20Pan,to%20Indian%20Residents%20and%20NRIs.). However, to apply for a PAN card for OCI or people of Indian origin who hold foreign citizenship, an applicant is required to fill Form 49AA.\n",
            "\n",
            "**Is a PAN card mandatory for NRI?**\n",
            "\n",
            "PAN is not compulsory for all NRIs. A PAN card is mandatory for NRIs with a source of income in India to file their taxes or if they want to invest in stocks or mutual funds in India.\n",
            "\n",
            "**What is the difference between PAN card and Form 60?**\n",
            "\n",
            "The **basic difference** between a PAN Card and [Form 60](https://www.incometaxindia.gov.in/forms/income-tax%20rules/103120000000007944.pdf) is that you can only sign and use the Form 60 to open a bank account but in order to file taxes and carry out investments from that account, a Pan Card is mandatory.\n",
            "\n",
            "**Can I get a new PAN card as a Canadian citizen?**\n",
            "\n",
            "No, it is illegal to possess multiple PAN cards. As a Canadian citizen, you cannot obtain a new PAN card. Instead, you should update your citizenship status in the existing PAN card.\n",
            "\n",
            "**Can I perform KYC for my father's mutual funds with an NRI PAN card?**\n",
            "\n",
            "You can use your NRI PAN card to perform KYC (Know Your Customer) for your father's mutual funds. However, ensuring that your PAN card reflects your updated citizenship status is crucial. You need to complete updating your citizenship in the PAN database before using it for any financial transactions or KYC requirements.\n",
            "\n",
            "**Can the new PAN card be dispatched to my Canadian address?**\n",
            "\n",
            "Yes, the PAN card can be delivered to your overseas address, including your Canadian address. While applying for a new PAN card or requesting corrections, you can provide your Canadian address as the delivery address. Make sure to provide accurate and complete address details to ensure successful delivery.\n",
            "\n",
            "**What documents are required for updating citizenship on the PAN card?**\n",
            "\n",
            "To update your citizenship status, you must provide documents such as your foreign passport, revoked Indian passport (if applicable), and a citizenship renunciation letter (if you have renounced Indian citizenship). \n",
            "\n",
            "**Can an overseas driving license be considered as a valid address proof for the PAN card?**\n",
            "\n",
            "No, an overseas driving license is generally not considered a valid address proof for the PAN card. Instead, you can provide alternative documents such as bank statements or credit card statements that contain your overseas address as proof of address while applying for corrections or updating your PAN card.\n",
            "\n",
            "**How can I make the payment for the PAN card correction process?**\n",
            "\n",
            "During the PAN card correction process, you will be either provided with a payment link or taken to Razorpay page. Razorpay is a secure online platform where you can make the payment conveniently using various payment options such as credit/debit cards, net banking, or digital wallets. Make sure to follow the instructions provided and ensure the payment is made within the specified timeframe.\n",
            "\n",
            "**Can I link aadhaar card and PAN card even if there is minor difference in my name in both?**\n",
            "\n",
            "It is important for the date of birth (DOB) to be the same on both the PAN and Aadhaar documents. However, minor differences in the name should not pose an issue.\n",
            "\n",
            "**Can NRIs make the payment for the process using an Indian bank account?**\n",
            "\n",
            "Yes, NRIs can make the payment through their Indian bank accounts. However, it is worth noting that paying in Indian Rupees (INR) may be costlier due to the application of 18% GST.\n",
            "\n",
            "**Is it possible to make the payment for the process using a cheque?**\n",
            "\n",
            "No, ABC only accepts online payments for the linking process and does not accept cheques.\n",
            "\n",
            "**What payment options are available for NRIs?**\n",
            "\n",
            "NRIs can make the payment using their debit or credit cards or through their international cards.\n",
            "\n",
            "**Can NRIs residing in the USA link their PAN and Aadhaar cards without visiting India?**\n",
            "\n",
            "Yes, NRIs residing in the USA can link their PAN and Aadhaar cards without the need to visit India. ABC can assist them digitally.\n",
            "\n",
            "**How can NRIs share their PAN and Aadhaar card details with ABC for the linking process?**\n",
            "\n",
            "NRIs can share their PAN and Aadhaar card details by providing clear images of the documents to ABC. Blurry or unclear images may require re-submission for verification.\n",
            "\n",
            "**Can NRIs use an international card for making the payment?**\n",
            "\n",
            "Yes, NRIs can use their international debit or credit cards to make the payment for the linking process.\n",
            "\n",
            "**Is it necessary to download the ABC app or visit their website for the payment process**\n",
            "\n",
            "No, it is not necessary to download the ABC app or visit their website for the payment process. The payment link provided by ABC can be accessed directly to make the payment.\n",
            "\n",
            "**Can I apply for pan card without Aadhaar?**\n",
            "\n",
            "Yes, NRIs can apply for a PAN card without an Aadhaar Card? They can simply do so by filling out either of the forms – 49A (for citizens of India) or Form 49AA (for foreign citizens).\n",
            "\n",
            "**Can I apply for a PAN card if I am a non-resident Indian (NRI)?**\n",
            "\n",
            "Yes, as an NRI, you can apply for a PAN card. The process for applying for a PAN card is the same for both residents and NRIs. However, if you are an OCI holder or a person of Indian origin who holds foreign citizenship, you will need to fill Form 49AA to apply for a PAN card.\n",
            "\n",
            "**Can I take the delivery of Pan card at Indian address?**\n",
            "\n",
            "Yes, you can take the delivery of your PAN card only at an Indian address mentioned in your Aadhaar card. While applying for a new PAN card or requesting corrections, you can provide your Indian address as the delivery address. Make sure to provide accurate and complete address details to ensure successful delivery.\n",
            "\n"
          ]
        }
      ]
    },
    {
      "cell_type": "markdown",
      "metadata": {
        "id": "GgYSxGy2baLP"
      },
      "source": [
        "#Chunk Article\n",
        "\n",
        "DPR is based on BERT, so we obey to BERT's 512 token limit"
      ]
    },
    {
      "cell_type": "code",
      "execution_count": 4,
      "metadata": {
        "colab": {
          "base_uri": "https://localhost:8080/"
        },
        "id": "5GeNlUoYavk-",
        "outputId": "bb85d91d-6247-46be-8167-f21b9dced0b8"
      },
      "outputs": [
        {
          "output_type": "stream",
          "name": "stdout",
          "text": [
            "before spillting, 17,879 articles. \n",
            "\n",
            "Splitting....\n",
            "   Done.\n",
            "\n",
            "After Splitting 31\"passages\"\n"
          ]
        }
      ],
      "source": [
        "print('before spillting, {:,} articles. \\n'.format(len(content)))\n",
        "\n",
        "passages_title = []\n",
        "passages = []\n",
        "\n",
        "print('Splitting....')\n",
        "\n",
        "\n",
        "\n",
        "for i in range(0, len(title_passage_pairs)):\n",
        "\n",
        "    title,passage = title_passage_pairs[i]\n",
        "\n",
        "    words = passage.split()\n",
        "    for i in range(0,len(words),100):\n",
        "\n",
        "        chunk_words = words[i: i+100]\n",
        "        chunk = \" \".join(chunk_words)\n",
        "        chunk = chunk.strip()\n",
        "        if len(chunk)==0:\n",
        "            continue\n",
        "\n",
        "        passages.append(chunk)\n",
        "        passages_title.append(title)\n",
        "\n",
        "print('   Done.\\n')\n",
        "\n",
        "chunked_corpus = {'title':passages_title, 'text': passages}\n",
        "print('After Splitting {:,}\"passages\"'.format(len(chunked_corpus['text'])))\n",
        "\n"
      ]
    },
    {
      "cell_type": "markdown",
      "metadata": {
        "id": "aqjAfEZ3dWjf"
      },
      "source": [
        "# Create DPR Embedding\n",
        "\n",
        "Now we feed these passages to out BERT Model\n",
        "\n",
        "As Always with BERT, There are two steps:\n",
        "1. The Tokenizer will break the passages into tokens and replace them with token IDs\n",
        "\n",
        "2. The Encoder will feed each passage's token IDs through the BERT-type model to generateembedding for each passage."
      ]
    },
    {
      "cell_type": "markdown",
      "metadata": {
        "id": "AJNqNa6Bd4_X"
      },
      "source": [
        "# Tokenizer"
      ]
    },
    {
      "cell_type": "code",
      "execution_count": 5,
      "metadata": {
        "colab": {
          "base_uri": "https://localhost:8080/"
        },
        "id": "xMDoAJ3-dWCe",
        "outputId": "00c3c92e-e8f5-4e03-d281-9ac954120242"
      },
      "outputs": [
        {
          "output_type": "stream",
          "name": "stdout",
          "text": [
            "Requirement already satisfied: transformers in /usr/local/lib/python3.10/dist-packages (4.31.0)\n",
            "Requirement already satisfied: filelock in /usr/local/lib/python3.10/dist-packages (from transformers) (3.12.2)\n",
            "Requirement already satisfied: huggingface-hub<1.0,>=0.14.1 in /usr/local/lib/python3.10/dist-packages (from transformers) (0.16.4)\n",
            "Requirement already satisfied: numpy>=1.17 in /usr/local/lib/python3.10/dist-packages (from transformers) (1.22.4)\n",
            "Requirement already satisfied: packaging>=20.0 in /usr/local/lib/python3.10/dist-packages (from transformers) (23.1)\n",
            "Requirement already satisfied: pyyaml>=5.1 in /usr/local/lib/python3.10/dist-packages (from transformers) (6.0.1)\n",
            "Requirement already satisfied: regex!=2019.12.17 in /usr/local/lib/python3.10/dist-packages (from transformers) (2022.10.31)\n",
            "Requirement already satisfied: requests in /usr/local/lib/python3.10/dist-packages (from transformers) (2.27.1)\n",
            "Requirement already satisfied: tokenizers!=0.11.3,<0.14,>=0.11.1 in /usr/local/lib/python3.10/dist-packages (from transformers) (0.13.3)\n",
            "Requirement already satisfied: safetensors>=0.3.1 in /usr/local/lib/python3.10/dist-packages (from transformers) (0.3.1)\n",
            "Requirement already satisfied: tqdm>=4.27 in /usr/local/lib/python3.10/dist-packages (from transformers) (4.65.0)\n",
            "Requirement already satisfied: fsspec in /usr/local/lib/python3.10/dist-packages (from huggingface-hub<1.0,>=0.14.1->transformers) (2023.6.0)\n",
            "Requirement already satisfied: typing-extensions>=3.7.4.3 in /usr/local/lib/python3.10/dist-packages (from huggingface-hub<1.0,>=0.14.1->transformers) (4.7.1)\n",
            "Requirement already satisfied: urllib3<1.27,>=1.21.1 in /usr/local/lib/python3.10/dist-packages (from requests->transformers) (1.26.16)\n",
            "Requirement already satisfied: certifi>=2017.4.17 in /usr/local/lib/python3.10/dist-packages (from requests->transformers) (2023.7.22)\n",
            "Requirement already satisfied: charset-normalizer~=2.0.0 in /usr/local/lib/python3.10/dist-packages (from requests->transformers) (2.0.12)\n",
            "Requirement already satisfied: idna<4,>=2.5 in /usr/local/lib/python3.10/dist-packages (from requests->transformers) (3.4)\n"
          ]
        }
      ],
      "source": [
        "!pip install transformers\n",
        "from transformers import DPRContextEncoderTokenizerFast"
      ]
    },
    {
      "cell_type": "code",
      "execution_count": 6,
      "metadata": {
        "id": "5dQOH8_6b2Jb"
      },
      "outputs": [],
      "source": [
        "from transformers import DPRQuestionEncoderTokenizer\n",
        "#load the tokenizer\n",
        "ctx_tokenizer = DPRQuestionEncoderTokenizer.from_pretrained(\"facebook/dpr-ctx_encoder-single-nq-base\")"
      ]
    },
    {
      "cell_type": "code",
      "execution_count": 37,
      "metadata": {
        "colab": {
          "base_uri": "https://localhost:8080/"
        },
        "id": "eVyvzEYNsE6M",
        "outputId": "f972b93f-94cd-47ab-ef0c-00d3711f7b7f"
      },
      "outputs": [
        {
          "output_type": "stream",
          "name": "stdout",
          "text": [
            "Tokenizing 31 passages fro DPR....\n",
            "done\n"
          ]
        }
      ],
      "source": [
        "#We're passing the tokenizer\n",
        "#   1. The passages\n",
        "#   2. Parameters fimiliar from BERT Tokenizers\n",
        "\n",
        "num_passages = len(chunked_corpus['text'])\n",
        "\n",
        "print('Tokenizing {:,} passages fro DPR....'.format(num_passages))\n",
        "\n",
        "#Tokenize the whole dataset\n",
        "outputs = ctx_tokenizer(\n",
        "    chunked_corpus['title'],\n",
        "    chunked_corpus['text'],\n",
        "    truncation = True,\n",
        "    padding='longest',\n",
        "    return_tensors = \"pt\"\n",
        ")\n",
        "\n",
        "print(\"done\")\n",
        "\n",
        "#'input_ids' holds the encoded tokens for the enntire corpus\n",
        "input_ids = outputs[\"input_ids\"]\n"
      ]
    },
    {
      "cell_type": "code",
      "execution_count": 38,
      "metadata": {
        "colab": {
          "base_uri": "https://localhost:8080/"
        },
        "id": "KV8VJIBpti_y",
        "outputId": "64241d48-aa7a-48e1-b609-afb28dd6709a"
      },
      "outputs": [
        {
          "output_type": "stream",
          "name": "stdout",
          "text": [
            "torch.Size([31, 287])\n"
          ]
        }
      ],
      "source": [
        "print(input_ids.shape)"
      ]
    },
    {
      "cell_type": "markdown",
      "metadata": {
        "id": "yjjF73vut6Er"
      },
      "source": [
        "This tensor size tell us about the longest passsage is 279 tokens.\n",
        "\n",
        "When retrieving reference text, the DPR model has seperate encoder for the question text and the reference text.\n",
        "\n",
        "one implication of this is that the question and reference can be upto 512 tokens each"
      ]
    },
    {
      "cell_type": "markdown",
      "metadata": {
        "id": "zt0qmSXKuXcd"
      },
      "source": [
        "# \"Encoding\"(Generate Embedding)"
      ]
    },
    {
      "cell_type": "code",
      "execution_count": 39,
      "metadata": {
        "colab": {
          "base_uri": "https://localhost:8080/"
        },
        "id": "ingbMCDJt4HU",
        "outputId": "2cae8d4d-630a-4533-be3a-92f70f3c2412"
      },
      "outputs": [
        {
          "output_type": "stream",
          "name": "stdout",
          "text": [
            "There are 1 GPU available\n",
            "We will use the GPU:  Tesla T4\n"
          ]
        }
      ],
      "source": [
        "import torch\n",
        "\n",
        "if torch.cuda.is_available():\n",
        "    device = torch.device(\"cuda\")\n",
        "\n",
        "    print('There are %d GPU available' % torch.cuda.device_count())\n",
        "    print('We will use the GPU: ', torch.cuda.get_device_name(0))\n",
        "\n",
        "else:\n",
        "    print('No GPU Available')"
      ]
    },
    {
      "cell_type": "markdown",
      "metadata": {
        "id": "DqVqoyK6vCP6"
      },
      "source": [
        "No we can load the encoder, and move it into the GPU. This will put the model from the huggingface repository."
      ]
    },
    {
      "cell_type": "code",
      "execution_count": 40,
      "metadata": {
        "colab": {
          "base_uri": "https://localhost:8080/"
        },
        "id": "Sm88j37su-1i",
        "outputId": "be4dfe5c-eba1-44f4-82f5-24d3d2bbb4b0"
      },
      "outputs": [
        {
          "output_type": "stream",
          "name": "stderr",
          "text": [
            "Some weights of the model checkpoint at facebook/dpr-ctx_encoder-single-nq-base were not used when initializing DPRContextEncoder: ['ctx_encoder.bert_model.pooler.dense.weight', 'ctx_encoder.bert_model.pooler.dense.bias']\n",
            "- This IS expected if you are initializing DPRContextEncoder from the checkpoint of a model trained on another task or with another architecture (e.g. initializing a BertForSequenceClassification model from a BertForPreTraining model).\n",
            "- This IS NOT expected if you are initializing DPRContextEncoder from the checkpoint of a model that you expect to be exactly identical (initializing a BertForSequenceClassification model from a BertForSequenceClassification model).\n"
          ]
        }
      ],
      "source": [
        "#Import DPR encoder,the model that will generate the embedding\n",
        "from transformers import DPRContextEncoder\n",
        "\n",
        "ctx_encoder = DPRContextEncoder.from_pretrained(\"facebook/dpr-ctx_encoder-single-nq-base\")\n",
        "\n",
        "#Move the encoder model to the GPU\n",
        "ctx_encoder = ctx_encoder.to(device=device)"
      ]
    },
    {
      "cell_type": "markdown",
      "metadata": {
        "id": "MfJz0uAUwSgs"
      },
      "source": [
        "Encoding can be slow, so we'll print the progress updates as we go. The below helper function just formats elapsed time(in second) as hh:mm:ss"
      ]
    },
    {
      "cell_type": "code",
      "execution_count": 41,
      "metadata": {
        "id": "O1M9-P36vnwh"
      },
      "outputs": [],
      "source": [
        "import time\n",
        "import datetime\n",
        "\n",
        "def format_time(elapsed):\n",
        "    '''\n",
        "    Takes a time in seconds and returns a string hh:mm:ss\n",
        "    '''\n",
        "\n",
        "    #Round to nearest second\n",
        "    elapsed_rounded = int(round(elapsed))\n",
        "\n",
        "    #Format as hh:mm:ss\n",
        "    return str(datetime.timedelta(seconds=elapsed_rounded))"
      ]
    },
    {
      "cell_type": "markdown",
      "metadata": {
        "id": "WZprLqhOw_xE"
      },
      "source": [
        "With the model loaded, it's time to apply it to our tokenized passages."
      ]
    },
    {
      "cell_type": "code",
      "execution_count": 42,
      "metadata": {
        "colab": {
          "base_uri": "https://localhost:8080/"
        },
        "id": "i_DlR7tJw-zj",
        "outputId": "1c0187f5-d1fe-4fa5-8138-64f73cfed696"
      },
      "outputs": [
        {
          "output_type": "stream",
          "name": "stdout",
          "text": [
            "Generating embedding for 31 passages....\n",
            "Batch    1 of     8. Elapsed0:00:00\n",
            "Batch    2 of     8. Elapsed0:00:00\n",
            "Batch    3 of     8. Elapsed0:00:00\n",
            "Batch    4 of     8. Elapsed0:00:00\n",
            "Batch    5 of     8. Elapsed0:00:00\n",
            "Batch    6 of     8. Elapsed0:00:00\n",
            "Batch    7 of     8. Elapsed0:00:01\n",
            "Done.\n"
          ]
        }
      ],
      "source": [
        "import time\n",
        "import math\n",
        "\n",
        "#We're running the model forward only so no need for gradient\n",
        "torch.set_grad_enabled(False)\n",
        "\n",
        "#Track time elapsed for progress update\n",
        "t0 = time.time()\n",
        "\n",
        "#Track the current batch number, also for progress update\n",
        "step = 0\n",
        "\n",
        "#How many passages to process each batch\n",
        "batch_size = 4\n",
        "\n",
        "#Get the number of passages in the dataset, we'll use this in a few place\n",
        "num_passages = input_ids.size()[0]\n",
        "\n",
        "#Calculate the number of batches in the dataset\n",
        "num_batches = math.ceil(num_passages/batch_size)\n",
        "\n",
        "#As we embed the passages in batches, accumulate them in this list.\n",
        "embed_batches = []\n",
        "\n",
        "print('Generating embedding for {:,} passages....'.format(num_passages))\n",
        "\n",
        "#For each batch of passages....\n",
        "for i in range(0,num_passages, batch_size):\n",
        "\n",
        "    #progree update after every 100 batches\n",
        "    if step %1== 0 and not step ==0:\n",
        "        #Calculate the elapsed time in minute\n",
        "        elapsed = format_time(time.time() - t0)\n",
        "\n",
        "        #Report Progress\n",
        "        print('Batch{:>5} of {:>5}. Elapsed{:}'.format(step,num_batches,elapsed))\n",
        "\n",
        "    #Select the nect batch\n",
        "    batch_ids = input_ids[i:i+4,:]\n",
        "\n",
        "    #Move them to the GPU\n",
        "    batch_ids = batch_ids.to(device)\n",
        "\n",
        "    #Run the encoder!\n",
        "    output = ctx_encoder(\n",
        "        batch_ids,\n",
        "        return_dict = True\n",
        "    )\n",
        "\n",
        "    # The embedding are in the field \"pooler_output\"\n",
        "    embeddings = output[\"pooler_output\"]\n",
        "\n",
        "    #Bring the embedding back over from the GPU and convert to numpy(out of pytorch)\n",
        "    embeddings = embeddings.detach().cpu().numpy()\n",
        "\n",
        "    embed_batches.append(embeddings)\n",
        "\n",
        "    step +=1\n",
        "\n",
        "print(\"Done.\")"
      ]
    },
    {
      "cell_type": "markdown",
      "metadata": {
        "id": "s0Et1mriXjDP"
      },
      "source": [
        "A final step is to combine the result across all other batches\n",
        "\n",
        "We can print the final matrix size and see that the length of embeddings is 786, which is the embedding length for BERT-base"
      ]
    },
    {
      "cell_type": "code",
      "execution_count": 43,
      "metadata": {
        "colab": {
          "base_uri": "https://localhost:8080/"
        },
        "id": "z7I9LH6x1Hg2",
        "outputId": "1354b2eb-396f-42f5-b2c1-c57439a88a38"
      },
      "outputs": [
        {
          "output_type": "stream",
          "name": "stdout",
          "text": [
            "Size of dataset embeddings:  (31, 768)\n"
          ]
        }
      ],
      "source": [
        "import numpy as np\n",
        "\n",
        "#Combine the results across all batches\n",
        "embeddings = np.concatenate(embed_batches,axis=0)\n",
        "\n",
        "print('Size of dataset embeddings: ', embeddings.shape)"
      ]
    },
    {
      "cell_type": "markdown",
      "metadata": {
        "id": "ibTU_naFYIxh"
      },
      "source": [
        "# Faiss index"
      ]
    },
    {
      "cell_type": "markdown",
      "metadata": {
        "id": "dKTjShD3YS7l"
      },
      "source": [
        "Now that we have our reference passages all converted into embeddings, the next piece is performing the similiarity search between the question embedding and all of the reference embedding.\n",
        "\n",
        "\n",
        "**Facebook AI Similiarity Search (FAISS)** is a library for performing KNN search.\n",
        "\n",
        "\n",
        "The main feature of FAISS is that it implements a number of **Approximate Nearest Neaighbour(ANN)** techniques.Knn can be extremely computationally expensive to do \"brute force\", so ANN techniques attempt to address this by approximating the search ans sacrificing accuracy for speed. They also require that you first build an index for the collection of vector that you'll be searching.\n",
        "\n"
      ]
    },
    {
      "cell_type": "markdown",
      "metadata": {
        "id": "aHvPrC6BZihU"
      },
      "source": [
        "###Create index"
      ]
    },
    {
      "cell_type": "code",
      "execution_count": 44,
      "metadata": {
        "colab": {
          "base_uri": "https://localhost:8080/"
        },
        "id": "Y5t_AhVlYBi9",
        "outputId": "351f0eef-2edc-4d15-d272-8261ddd0b1c6"
      },
      "outputs": [
        {
          "output_type": "stream",
          "name": "stdout",
          "text": [
            "Requirement already satisfied: faiss-gpu in /usr/local/lib/python3.10/dist-packages (1.7.2)\n"
          ]
        }
      ],
      "source": [
        "!pip install faiss-gpu"
      ]
    },
    {
      "cell_type": "code",
      "execution_count": 45,
      "metadata": {
        "id": "wBu1l6VTZoA6"
      },
      "outputs": [],
      "source": [
        "import faiss\n",
        "\n",
        "# The dimension of embeddings to pass to the Hierarchical navigable Small Worlds(HNSW) Faiss Index\n",
        "dim =768\n",
        "\n",
        "#The number of bi directional links created for every new element during the HNSW Construction\n",
        "m=64\n",
        "\n",
        "# Let's use the Faissimplementation of HNSW for fast approximate nearest neighbour search\n",
        "index = faiss.IndexHNSWFlat(dim, m, faiss.METRIC_INNER_PRODUCT)"
      ]
    },
    {
      "cell_type": "markdown",
      "metadata": {
        "id": "sXlZTwFbaYm7"
      },
      "source": [
        "There are 2 steps to building the index. We call it train and add.\n",
        "\n",
        "because train takes less time than add, I feel add is the function which actually build the index."
      ]
    },
    {
      "cell_type": "code",
      "execution_count": 46,
      "metadata": {
        "colab": {
          "base_uri": "https://localhost:8080/"
        },
        "id": "Y6ldncm7aW5y",
        "outputId": "eef89bfc-9ca9-417d-f9b4-0b23ea38223b"
      },
      "outputs": [
        {
          "output_type": "stream",
          "name": "stdout",
          "text": [
            "Building the FAISS index....\n",
            "DONE.\n",
            "Adding embedding to index took 0:00:00\n"
          ]
        }
      ],
      "source": [
        "print(\"Building the FAISS index....\")\n",
        "\n",
        "#Track elapsed time for progress update\n",
        "t0= time.time()\n",
        "index.train(embeddings)\n",
        "index.add(embeddings)\n",
        "\n",
        "print(\"DONE.\")\n",
        "print(\"Adding embedding to index took\",format_time(time.time()-t0))"
      ]
    },
    {
      "cell_type": "markdown",
      "metadata": {
        "id": "CaVn2UqFbUSI"
      },
      "source": [
        "#Example Search\n",
        "\n",
        "Now we're ready to search.\n",
        "When we use the complete RAG system to answer questions, RAG will handle this search step for us internally.\n",
        "\n",
        "For the sake of illustration how DPR works,though, let's try a search of our own!\n",
        "\n"
      ]
    },
    {
      "cell_type": "markdown",
      "metadata": {
        "id": "F4KJPT0tbueJ"
      },
      "source": [
        "**DPR QUESTION ENCODER**\n",
        "\n",
        "to perform a search against our DPR Embedding, we'll need to encode our query using DPR Question encoder rather than the context encoder we used earlier. DPR trains seperate encoders for the questions and reference text"
      ]
    },
    {
      "cell_type": "code",
      "execution_count": 47,
      "metadata": {
        "colab": {
          "base_uri": "https://localhost:8080/"
        },
        "id": "G5wuPFXCbAnT",
        "outputId": "1fca3824-15ad-4af0-86be-847499048ebc"
      },
      "outputs": [
        {
          "output_type": "stream",
          "name": "stderr",
          "text": [
            "Some weights of the model checkpoint at facebook/dpr-question_encoder-single-nq-base were not used when initializing DPRQuestionEncoder: ['question_encoder.bert_model.pooler.dense.bias', 'question_encoder.bert_model.pooler.dense.weight']\n",
            "- This IS expected if you are initializing DPRQuestionEncoder from the checkpoint of a model trained on another task or with another architecture (e.g. initializing a BertForSequenceClassification model from a BertForPreTraining model).\n",
            "- This IS NOT expected if you are initializing DPRQuestionEncoder from the checkpoint of a model that you expect to be exactly identical (initializing a BertForSequenceClassification model from a BertForSequenceClassification model).\n"
          ]
        }
      ],
      "source": [
        "from transformers import DPRQuestionEncoder\n",
        "\n",
        "q_encoder = DPRQuestionEncoder.from_pretrained(\"facebook/dpr-question_encoder-single-nq-base\")\n",
        "\n",
        "#Move the model to GPU\n",
        "q_encoder = q_encoder.to(device=device)"
      ]
    },
    {
      "cell_type": "markdown",
      "metadata": {
        "id": "vJDNlAMec-ev"
      },
      "source": [
        "We will also need question tokenizer"
      ]
    },
    {
      "cell_type": "code",
      "execution_count": 48,
      "metadata": {
        "id": "T1erN00Eca6I"
      },
      "outputs": [],
      "source": [
        "from transformers import DPRQuestionEncoderTokenizerFast\n",
        "#load the tokenizer\n",
        "q_tokenizer = DPRQuestionEncoderTokenizerFast.from_pretrained(\"facebook/dpr-ctx_encoder-single-nq-base\")"
      ]
    },
    {
      "cell_type": "markdown",
      "metadata": {
        "id": "dU82GoO6dIUQ"
      },
      "source": [
        "####DEMO"
      ]
    },
    {
      "cell_type": "code",
      "execution_count": 49,
      "metadata": {
        "colab": {
          "base_uri": "https://localhost:8080/"
        },
        "id": "46Hioy-tc4do",
        "outputId": "a18f2112-b053-44c7-84cd-a3ea914fc4c7"
      },
      "outputs": [
        {
          "output_type": "stream",
          "name": "stdout",
          "text": [
            "Query embedding:  (1, 768)\n"
          ]
        }
      ],
      "source": [
        "#Tokenize the question\n",
        "input_ids = q_tokenizer.encode(\"Where can I apply for PAN?\",return_tensors = \"pt\")\n",
        "\n",
        "#Move the model to GPU\n",
        "input_ids = input_ids.to(device)\n",
        "\n",
        "#Run the question the BERT and generate the question embedding\n",
        "outputs = q_encoder(input_ids)\n",
        "\n",
        "#The embedding stored in the 'pooler_output' property\n",
        "q_embed = outputs['pooler_output']\n",
        "\n",
        "#Our FAISS index is no GPU not on CPU. So move!!\n",
        "q_embed = q_embed.cpu().numpy()\n",
        "\n",
        "#checking embedding size\n",
        "print(\"Query embedding: \", q_embed.shape)"
      ]
    },
    {
      "cell_type": "markdown",
      "metadata": {
        "id": "Kg3c1BaoeBmi"
      },
      "source": [
        "We are ready to perform the search using the FAISS Index!\n",
        "\n",
        "We call index.search, giving it our question embedding and the number of top matches that we want returned.\n",
        "\n",
        "The search function returns the indices of the closest matching passages as well as the distances, similiarity between the query and each of those result."
      ]
    },
    {
      "cell_type": "code",
      "execution_count": 50,
      "metadata": {
        "colab": {
          "base_uri": "https://localhost:8080/"
        },
        "id": "LUJJIVaVd63u",
        "outputId": "8b187ea5-a276-46b3-a9b5-58fe746a025a"
      },
      "outputs": [
        {
          "output_type": "stream",
          "name": "stdout",
          "text": [
            "Closest matching indices: [[10 29  6]]\n",
            "Inner Product [[76.85603 74.05934 72.56772]]\n"
          ]
        }
      ],
      "source": [
        "#Find the k=3 most similiar passages to the question embedding'q_embed'\n",
        "D,I = index.search(q_embed, k=3)\n",
        "\n",
        "# Print out the indices and the similiarity scores\n",
        "print(\"Closest matching indices:\", I)\n",
        "print(\"Inner Product\", D)"
      ]
    },
    {
      "cell_type": "markdown",
      "metadata": {
        "id": "I0rlu2qFe15L"
      },
      "source": [
        "The indices are not interesting to look, so let's map those back to the original passage text. We'll use the textwrap library to print the passage nicely."
      ]
    },
    {
      "cell_type": "code",
      "execution_count": 51,
      "metadata": {
        "colab": {
          "base_uri": "https://localhost:8080/"
        },
        "id": "5RQSN1Lzhcgy",
        "outputId": "034d2fee-febf-4980-8fff-66e6af47abd5"
      },
      "outputs": [
        {
          "output_type": "execute_result",
          "data": {
            "text/plain": [
              "31"
            ]
          },
          "metadata": {},
          "execution_count": 51
        }
      ],
      "source": [
        "len(chunked_corpus['text'])"
      ]
    },
    {
      "cell_type": "code",
      "execution_count": 52,
      "metadata": {
        "colab": {
          "base_uri": "https://localhost:8080/"
        },
        "id": "0ionOttcezPH",
        "outputId": "6c151653-c695-48d8-b5ac-32e82ee2fa7d"
      },
      "outputs": [
        {
          "output_type": "stream",
          "name": "stdout",
          "text": [
            "index 10\n",
            "Passage:\n",
            "to update the address on PAN Card - Passport - OCI Card - Bank Account Statement\n",
            "in the country of residence - NRE Bank Account Statement in India - Residential\n",
            "Permit ###\n",
            "******************************************************************Process to\n",
            "change the citizenship on PAN\n",
            "Card****************************************************************** No direct\n",
            "provisions exist to change citizenship in a Pan Card as the **PAN Card** doesn’t\n",
            "display your citizenship. It is a document required to file taxes, carry out\n",
            "investments and do transactions in India, whether you are a citizen, NRI, or\n",
            "OCI. To change the citizenship in a PAN card, you must meet and notify your\n",
            "jurisdictional Assessing Officer.\n",
            "\n",
            "index 29\n",
            "Passage:\n",
            "visit their website for the payment process. The payment link provided by ABC\n",
            "can be accessed directly to make the payment. **Can I apply for pan card without\n",
            "Aadhaar?** Yes, NRIs can apply for a PAN card without an Aadhaar Card? They can\n",
            "simply do so by filling out either of the forms – 49A (for citizens of India) or\n",
            "Form 49AA (for foreign citizens). **Can I apply for a PAN card if I am a non-\n",
            "resident Indian (NRI)?** Yes, as an NRI, you can apply for a PAN card. The\n",
            "process for applying for a PAN card is the\n",
            "\n",
            "index 6\n",
            "Passage:\n",
            "for a new PAN Card **If you have Aadhaar card** No other document is required.\n",
            "You can get your pan card through your Aadhaar card in 10 minutes. **If you\n",
            "don’t have an Aadhaar card** - Passport(Any Country) / OCI Card - Passport Size\n",
            "Photograph - Overseas address proof with zip code (Supporting documents - Indian\n",
            "NRO/NRE Account statement or Overseas bank statement or Utility bill) ### Cost\n",
            "of new PAN card The PAN CARD Application through ABC costs Rs 2500 for E-PAN,\n",
            "and if you want it to be couriered, it will cost Rs 1200 extra for physical\n",
            "delivery\n",
            "\n"
          ]
        }
      ],
      "source": [
        "import textwrap\n",
        "\n",
        "#Wrap text to 80 character\n",
        "wrapper = textwrap.TextWrapper(width=80)\n",
        "\n",
        "#For each of the 'k' results\n",
        "for i in I[0]:\n",
        "    print(\"index\", i)\n",
        "\n",
        "    #Retrieve passage\n",
        "    passage = chunked_corpus['text'][i]\n",
        "\n",
        "    print(\"Passage:\")\n",
        "    print(wrapper.fill(passage))\n",
        "\n",
        "    print('')"
      ]
    },
    {
      "cell_type": "markdown",
      "metadata": {
        "id": "vyP7bIqojaa5"
      },
      "source": [
        "#ASK Question\n",
        "\n",
        "In the pat few sections, we've looked closely at just the \"Retriever Protion\" of the RAG Framework. In this section, we'll use the full RAG model to generate answer to generate answers"
      ]
    },
    {
      "cell_type": "markdown",
      "metadata": {
        "id": "174BpE_ljvk0"
      },
      "source": [
        "###Create the Models Objects"
      ]
    },
    {
      "cell_type": "markdown",
      "metadata": {
        "id": "mTyhQ3Oqj3h8"
      },
      "source": [
        "#####Huggingface Dataset\n",
        "\n",
        "RAG requires that we place our reference data into a Dataset object.\n",
        "\n"
      ]
    },
    {
      "cell_type": "code",
      "execution_count": 53,
      "metadata": {
        "colab": {
          "base_uri": "https://localhost:8080/"
        },
        "id": "gE4K5wepkjnC",
        "outputId": "8d82ddc4-cc9e-44d6-a084-aed4cffb4e3c"
      },
      "outputs": [
        {
          "output_type": "stream",
          "name": "stdout",
          "text": [
            "Requirement already satisfied: datasets in /usr/local/lib/python3.10/dist-packages (2.14.2)\n",
            "Requirement already satisfied: numpy>=1.17 in /usr/local/lib/python3.10/dist-packages (from datasets) (1.22.4)\n",
            "Requirement already satisfied: pyarrow>=8.0.0 in /usr/local/lib/python3.10/dist-packages (from datasets) (9.0.0)\n",
            "Requirement already satisfied: dill<0.3.8,>=0.3.0 in /usr/local/lib/python3.10/dist-packages (from datasets) (0.3.7)\n",
            "Requirement already satisfied: pandas in /usr/local/lib/python3.10/dist-packages (from datasets) (1.5.3)\n",
            "Requirement already satisfied: requests>=2.19.0 in /usr/local/lib/python3.10/dist-packages (from datasets) (2.27.1)\n",
            "Requirement already satisfied: tqdm>=4.62.1 in /usr/local/lib/python3.10/dist-packages (from datasets) (4.65.0)\n",
            "Requirement already satisfied: xxhash in /usr/local/lib/python3.10/dist-packages (from datasets) (3.3.0)\n",
            "Requirement already satisfied: multiprocess in /usr/local/lib/python3.10/dist-packages (from datasets) (0.70.15)\n",
            "Requirement already satisfied: fsspec[http]>=2021.11.1 in /usr/local/lib/python3.10/dist-packages (from datasets) (2023.6.0)\n",
            "Requirement already satisfied: aiohttp in /usr/local/lib/python3.10/dist-packages (from datasets) (3.8.5)\n",
            "Requirement already satisfied: huggingface-hub<1.0.0,>=0.14.0 in /usr/local/lib/python3.10/dist-packages (from datasets) (0.16.4)\n",
            "Requirement already satisfied: packaging in /usr/local/lib/python3.10/dist-packages (from datasets) (23.1)\n",
            "Requirement already satisfied: pyyaml>=5.1 in /usr/local/lib/python3.10/dist-packages (from datasets) (6.0.1)\n",
            "Requirement already satisfied: attrs>=17.3.0 in /usr/local/lib/python3.10/dist-packages (from aiohttp->datasets) (23.1.0)\n",
            "Requirement already satisfied: charset-normalizer<4.0,>=2.0 in /usr/local/lib/python3.10/dist-packages (from aiohttp->datasets) (2.0.12)\n",
            "Requirement already satisfied: multidict<7.0,>=4.5 in /usr/local/lib/python3.10/dist-packages (from aiohttp->datasets) (6.0.4)\n",
            "Requirement already satisfied: async-timeout<5.0,>=4.0.0a3 in /usr/local/lib/python3.10/dist-packages (from aiohttp->datasets) (4.0.2)\n",
            "Requirement already satisfied: yarl<2.0,>=1.0 in /usr/local/lib/python3.10/dist-packages (from aiohttp->datasets) (1.9.2)\n",
            "Requirement already satisfied: frozenlist>=1.1.1 in /usr/local/lib/python3.10/dist-packages (from aiohttp->datasets) (1.4.0)\n",
            "Requirement already satisfied: aiosignal>=1.1.2 in /usr/local/lib/python3.10/dist-packages (from aiohttp->datasets) (1.3.1)\n",
            "Requirement already satisfied: filelock in /usr/local/lib/python3.10/dist-packages (from huggingface-hub<1.0.0,>=0.14.0->datasets) (3.12.2)\n",
            "Requirement already satisfied: typing-extensions>=3.7.4.3 in /usr/local/lib/python3.10/dist-packages (from huggingface-hub<1.0.0,>=0.14.0->datasets) (4.7.1)\n",
            "Requirement already satisfied: urllib3<1.27,>=1.21.1 in /usr/local/lib/python3.10/dist-packages (from requests>=2.19.0->datasets) (1.26.16)\n",
            "Requirement already satisfied: certifi>=2017.4.17 in /usr/local/lib/python3.10/dist-packages (from requests>=2.19.0->datasets) (2023.7.22)\n",
            "Requirement already satisfied: idna<4,>=2.5 in /usr/local/lib/python3.10/dist-packages (from requests>=2.19.0->datasets) (3.4)\n",
            "Requirement already satisfied: python-dateutil>=2.8.1 in /usr/local/lib/python3.10/dist-packages (from pandas->datasets) (2.8.2)\n",
            "Requirement already satisfied: pytz>=2020.1 in /usr/local/lib/python3.10/dist-packages (from pandas->datasets) (2022.7.1)\n",
            "Requirement already satisfied: six>=1.5 in /usr/local/lib/python3.10/dist-packages (from python-dateutil>=2.8.1->pandas->datasets) (1.16.0)\n"
          ]
        }
      ],
      "source": [
        "!pip install datasets"
      ]
    },
    {
      "cell_type": "code",
      "execution_count": 54,
      "metadata": {
        "colab": {
          "base_uri": "https://localhost:8080/"
        },
        "id": "B_saVV97fiSQ",
        "outputId": "af05d4f1-625a-4d4a-d4fc-1e7cf4481c69"
      },
      "outputs": [
        {
          "output_type": "stream",
          "name": "stdout",
          "text": [
            "Dataset({\n",
            "    features: ['title', 'text'],\n",
            "    num_rows: 31\n",
            "})\n"
          ]
        }
      ],
      "source": [
        "from datasets import Dataset\n",
        "import pandas as pd\n",
        "\n",
        "#Create DataFrame from the Dictionary\n",
        "df = pd.DataFrame(chunked_corpus)\n",
        "\n",
        "#Convert the DataFrame into huggingface Dataset object.\n",
        "dataset = Dataset.from_pandas(df)\n",
        "\n",
        "#Check out the object\n",
        "print(dataset)"
      ]
    },
    {
      "cell_type": "markdown",
      "metadata": {
        "id": "_aYy503vktjC"
      },
      "source": [
        "Next,we need to add the passages embeddings. We still have these in numpy matrix named embedding, but they actually need to be a list of arrays."
      ]
    },
    {
      "cell_type": "code",
      "execution_count": 55,
      "metadata": {
        "id": "8-4tB5Jckgob"
      },
      "outputs": [],
      "source": [
        "embs = []\n",
        "\n",
        "#For each embeddings..\n",
        "for i in range(embeddings.shape[0]):\n",
        "\n",
        "    #Add it to the list\n",
        "    embs.append(embeddings[i,:])"
      ]
    },
    {
      "cell_type": "code",
      "execution_count": 56,
      "metadata": {
        "colab": {
          "base_uri": "https://localhost:8080/"
        },
        "id": "XouvP0-Aln_y",
        "outputId": "c00b0f1f-5579-412e-bd17-5ff50ad55155"
      },
      "outputs": [
        {
          "output_type": "execute_result",
          "data": {
            "text/plain": [
              "31"
            ]
          },
          "metadata": {},
          "execution_count": 56
        }
      ],
      "source": [
        "len(embs)"
      ]
    },
    {
      "cell_type": "code",
      "execution_count": 57,
      "metadata": {
        "colab": {
          "base_uri": "https://localhost:8080/"
        },
        "id": "Fyw3LGO6lGE4",
        "outputId": "032b8126-5554-4309-8240-cdaa7f95ff12"
      },
      "outputs": [
        {
          "output_type": "execute_result",
          "data": {
            "text/plain": [
              "Dataset({\n",
              "    features: ['title', 'text', 'embeddings'],\n",
              "    num_rows: 31\n",
              "})"
            ]
          },
          "metadata": {},
          "execution_count": 57
        }
      ],
      "source": [
        "#Add the embeddings to the dataset as a new column\n",
        "#This is not done in place, so make sure to capture the return value.\n",
        "dataset = dataset.add_column(\"embeddings\", embs)\n",
        "\n",
        "#Display the dataset content\n",
        "dataset"
      ]
    },
    {
      "cell_type": "code",
      "execution_count": 58,
      "metadata": {
        "id": "jqPb8LXtlYbv",
        "colab": {
          "base_uri": "https://localhost:8080/",
          "height": 118,
          "referenced_widgets": [
            "e61df5389bae4a52923aa347664b2c93",
            "da1c4c686db3480888e69e72ab25dd6c",
            "65a551051019407faf6392eb1c1bef81",
            "04113814c5914189b3df22742f1ec489",
            "138ff34eea094562a151cdf973533197",
            "aaf8e69150c84e7585babd4021c2077e",
            "8b4db4a4fa174d2896f5be85d03ec789",
            "bf1ab1f09b6f408aa972851189438972",
            "70b13ee465c2433b89ac723801596227",
            "d6902fad7af54aa58d19ca211a2e0add",
            "2476e12744d44174a85b0525a8a5a587"
          ]
        },
        "outputId": "dccb1681-f885-4866-8bc2-454407c4ad45"
      },
      "outputs": [
        {
          "output_type": "display_data",
          "data": {
            "text/plain": [
              "  0%|          | 0/1 [00:00<?, ?it/s]"
            ],
            "application/vnd.jupyter.widget-view+json": {
              "version_major": 2,
              "version_minor": 0,
              "model_id": "e61df5389bae4a52923aa347664b2c93"
            }
          },
          "metadata": {}
        },
        {
          "output_type": "execute_result",
          "data": {
            "text/plain": [
              "Dataset({\n",
              "    features: ['title', 'text', 'embeddings'],\n",
              "    num_rows: 31\n",
              "})"
            ]
          },
          "metadata": {},
          "execution_count": 58
        }
      ],
      "source": [
        "dataset.add_faiss_index(column=\"embeddings\",index_name=\"embeddings\",custom_index=index,faiss_verbose=True)\n"
      ]
    },
    {
      "cell_type": "markdown",
      "source": [
        "Now our reference dataset is all set"
      ],
      "metadata": {
        "id": "it2W7NNns7Fc"
      }
    },
    {
      "cell_type": "markdown",
      "source": [
        "##Retriever\n",
        "\n",
        "The model we are using is called rag-sequence-nq.\n",
        "\n",
        "There are 2 variants of RAG: RAG-Sequence and RAG-Token.\n",
        "\n",
        "RAG-Sequence combine information from multiple passages.\n",
        "\n",
        "RAG-Token is capable of combining information. It generates single answer to the question. All documents are taken into consideration as we generate each token for this answer."
      ],
      "metadata": {
        "id": "b00kgYz7s-66"
      }
    },
    {
      "cell_type": "code",
      "source": [
        "!pip install datasets\n",
        "!pip install faiss-cpu"
      ],
      "metadata": {
        "colab": {
          "base_uri": "https://localhost:8080/"
        },
        "id": "C5biqwyEuVkR",
        "outputId": "7e4c5062-d454-4c4b-e5a4-8bf732f02612"
      },
      "execution_count": 59,
      "outputs": [
        {
          "output_type": "stream",
          "name": "stdout",
          "text": [
            "Requirement already satisfied: datasets in /usr/local/lib/python3.10/dist-packages (2.14.2)\n",
            "Requirement already satisfied: numpy>=1.17 in /usr/local/lib/python3.10/dist-packages (from datasets) (1.22.4)\n",
            "Requirement already satisfied: pyarrow>=8.0.0 in /usr/local/lib/python3.10/dist-packages (from datasets) (9.0.0)\n",
            "Requirement already satisfied: dill<0.3.8,>=0.3.0 in /usr/local/lib/python3.10/dist-packages (from datasets) (0.3.7)\n",
            "Requirement already satisfied: pandas in /usr/local/lib/python3.10/dist-packages (from datasets) (1.5.3)\n",
            "Requirement already satisfied: requests>=2.19.0 in /usr/local/lib/python3.10/dist-packages (from datasets) (2.27.1)\n",
            "Requirement already satisfied: tqdm>=4.62.1 in /usr/local/lib/python3.10/dist-packages (from datasets) (4.65.0)\n",
            "Requirement already satisfied: xxhash in /usr/local/lib/python3.10/dist-packages (from datasets) (3.3.0)\n",
            "Requirement already satisfied: multiprocess in /usr/local/lib/python3.10/dist-packages (from datasets) (0.70.15)\n",
            "Requirement already satisfied: fsspec[http]>=2021.11.1 in /usr/local/lib/python3.10/dist-packages (from datasets) (2023.6.0)\n",
            "Requirement already satisfied: aiohttp in /usr/local/lib/python3.10/dist-packages (from datasets) (3.8.5)\n",
            "Requirement already satisfied: huggingface-hub<1.0.0,>=0.14.0 in /usr/local/lib/python3.10/dist-packages (from datasets) (0.16.4)\n",
            "Requirement already satisfied: packaging in /usr/local/lib/python3.10/dist-packages (from datasets) (23.1)\n",
            "Requirement already satisfied: pyyaml>=5.1 in /usr/local/lib/python3.10/dist-packages (from datasets) (6.0.1)\n",
            "Requirement already satisfied: attrs>=17.3.0 in /usr/local/lib/python3.10/dist-packages (from aiohttp->datasets) (23.1.0)\n",
            "Requirement already satisfied: charset-normalizer<4.0,>=2.0 in /usr/local/lib/python3.10/dist-packages (from aiohttp->datasets) (2.0.12)\n",
            "Requirement already satisfied: multidict<7.0,>=4.5 in /usr/local/lib/python3.10/dist-packages (from aiohttp->datasets) (6.0.4)\n",
            "Requirement already satisfied: async-timeout<5.0,>=4.0.0a3 in /usr/local/lib/python3.10/dist-packages (from aiohttp->datasets) (4.0.2)\n",
            "Requirement already satisfied: yarl<2.0,>=1.0 in /usr/local/lib/python3.10/dist-packages (from aiohttp->datasets) (1.9.2)\n",
            "Requirement already satisfied: frozenlist>=1.1.1 in /usr/local/lib/python3.10/dist-packages (from aiohttp->datasets) (1.4.0)\n",
            "Requirement already satisfied: aiosignal>=1.1.2 in /usr/local/lib/python3.10/dist-packages (from aiohttp->datasets) (1.3.1)\n",
            "Requirement already satisfied: filelock in /usr/local/lib/python3.10/dist-packages (from huggingface-hub<1.0.0,>=0.14.0->datasets) (3.12.2)\n",
            "Requirement already satisfied: typing-extensions>=3.7.4.3 in /usr/local/lib/python3.10/dist-packages (from huggingface-hub<1.0.0,>=0.14.0->datasets) (4.7.1)\n",
            "Requirement already satisfied: urllib3<1.27,>=1.21.1 in /usr/local/lib/python3.10/dist-packages (from requests>=2.19.0->datasets) (1.26.16)\n",
            "Requirement already satisfied: certifi>=2017.4.17 in /usr/local/lib/python3.10/dist-packages (from requests>=2.19.0->datasets) (2023.7.22)\n",
            "Requirement already satisfied: idna<4,>=2.5 in /usr/local/lib/python3.10/dist-packages (from requests>=2.19.0->datasets) (3.4)\n",
            "Requirement already satisfied: python-dateutil>=2.8.1 in /usr/local/lib/python3.10/dist-packages (from pandas->datasets) (2.8.2)\n",
            "Requirement already satisfied: pytz>=2020.1 in /usr/local/lib/python3.10/dist-packages (from pandas->datasets) (2022.7.1)\n",
            "Requirement already satisfied: six>=1.5 in /usr/local/lib/python3.10/dist-packages (from python-dateutil>=2.8.1->pandas->datasets) (1.16.0)\n",
            "Requirement already satisfied: faiss-cpu in /usr/local/lib/python3.10/dist-packages (1.7.4)\n"
          ]
        }
      ]
    },
    {
      "cell_type": "code",
      "source": [
        "from transformers import RagRetriever\n",
        "\n",
        "retriever = RagRetriever.from_pretrained(\n",
        "    \"facebook/rag-sequence-nq\",\n",
        "\n",
        "    use_dummy_dataset = True, #The dummy dataset is reduced-size Wikipedia\n",
        "\n",
        "    indexed_dataset = dataset, #pass in our own dataset\n",
        "    index_name = \"embeddings\", #Specify the name of FAISS index\n",
        "    )"
      ],
      "metadata": {
        "colab": {
          "base_uri": "https://localhost:8080/"
        },
        "id": "yriYhJqmsqle",
        "outputId": "6c7e7c59-6c8a-49b2-cb7e-8d306ee934e4"
      },
      "execution_count": 60,
      "outputs": [
        {
          "output_type": "stream",
          "name": "stderr",
          "text": [
            "The tokenizer class you load from this checkpoint is not the same type as the class this function is called from. It may result in unexpected tokenization. \n",
            "The tokenizer class you load from this checkpoint is 'RagTokenizer'. \n",
            "The class this function is called from is 'DPRQuestionEncoderTokenizer'.\n",
            "The tokenizer class you load from this checkpoint is not the same type as the class this function is called from. It may result in unexpected tokenization. \n",
            "The tokenizer class you load from this checkpoint is 'RagTokenizer'. \n",
            "The class this function is called from is 'DPRQuestionEncoderTokenizerFast'.\n",
            "The tokenizer class you load from this checkpoint is not the same type as the class this function is called from. It may result in unexpected tokenization. \n",
            "The tokenizer class you load from this checkpoint is 'RagTokenizer'. \n",
            "The class this function is called from is 'BartTokenizer'.\n",
            "The tokenizer class you load from this checkpoint is not the same type as the class this function is called from. It may result in unexpected tokenization. \n",
            "The tokenizer class you load from this checkpoint is 'RagTokenizer'. \n",
            "The class this function is called from is 'BartTokenizerFast'.\n"
          ]
        }
      ]
    },
    {
      "cell_type": "markdown",
      "source": [
        "##Tokenizer\n",
        "\n",
        "load a takenizer to tokenize the question\n",
        "\n",
        "the RagTokr=enizer contains multiple tokenizers:\n",
        "\n",
        "\n",
        "*   The question tokenizer is accessed with the question_encoder funtion\n",
        "\n",
        "*   Presumably the generator, which is BART, has its own tokenizer that it's using internally to tokenize the passage returned by the retriever.\n",
        "\n"
      ],
      "metadata": {
        "id": "xy9aPMB0uaFo"
      }
    },
    {
      "cell_type": "code",
      "source": [
        "from transformers import RagTokenizer\n",
        "\n",
        "tokenizer = RagTokenizer.from_pretrained(\n",
        "    \"facebook/rag-sequence-nq\"\n",
        ")"
      ],
      "metadata": {
        "colab": {
          "base_uri": "https://localhost:8080/"
        },
        "id": "DYeaaMCNuO0x",
        "outputId": "334bbf80-f697-4d15-dd2c-1ba246f066fd"
      },
      "execution_count": 61,
      "outputs": [
        {
          "output_type": "stream",
          "name": "stderr",
          "text": [
            "The tokenizer class you load from this checkpoint is not the same type as the class this function is called from. It may result in unexpected tokenization. \n",
            "The tokenizer class you load from this checkpoint is 'RagTokenizer'. \n",
            "The class this function is called from is 'DPRQuestionEncoderTokenizer'.\n",
            "The tokenizer class you load from this checkpoint is not the same type as the class this function is called from. It may result in unexpected tokenization. \n",
            "The tokenizer class you load from this checkpoint is 'RagTokenizer'. \n",
            "The class this function is called from is 'DPRQuestionEncoderTokenizerFast'.\n",
            "The tokenizer class you load from this checkpoint is not the same type as the class this function is called from. It may result in unexpected tokenization. \n",
            "The tokenizer class you load from this checkpoint is 'RagTokenizer'. \n",
            "The class this function is called from is 'BartTokenizer'.\n",
            "The tokenizer class you load from this checkpoint is not the same type as the class this function is called from. It may result in unexpected tokenization. \n",
            "The tokenizer class you load from this checkpoint is 'RagTokenizer'. \n",
            "The class this function is called from is 'BartTokenizerFast'.\n"
          ]
        }
      ]
    },
    {
      "cell_type": "markdown",
      "source": [
        "##Generator\n",
        "\n",
        "We pass the retriever object to the generator object, so we'll see that all of our interaction with RAG is actually just handled through this Generator instance."
      ],
      "metadata": {
        "id": "s2k1iONzvDjh"
      }
    },
    {
      "cell_type": "code",
      "source": [
        "from transformers import RagSequenceForGeneration\n",
        "\n",
        "model = RagSequenceForGeneration.from_pretrained(\n",
        "    \"facebook/rag-sequence-nq\",\n",
        "    retriever =retriever\n",
        ")"
      ],
      "metadata": {
        "colab": {
          "base_uri": "https://localhost:8080/"
        },
        "id": "_Tcx-nwlvBAm",
        "outputId": "451d76eb-1490-4372-eb0a-3c4ca2291a0b"
      },
      "execution_count": 62,
      "outputs": [
        {
          "output_type": "stream",
          "name": "stderr",
          "text": [
            "Some weights of the model checkpoint at facebook/rag-sequence-nq were not used when initializing RagSequenceForGeneration: ['rag.question_encoder.question_encoder.bert_model.pooler.dense.weight', 'rag.question_encoder.question_encoder.bert_model.pooler.dense.bias']\n",
            "- This IS expected if you are initializing RagSequenceForGeneration from the checkpoint of a model trained on another task or with another architecture (e.g. initializing a BertForSequenceClassification model from a BertForPreTraining model).\n",
            "- This IS NOT expected if you are initializing RagSequenceForGeneration from the checkpoint of a model that you expect to be exactly identical (initializing a BertForSequenceClassification model from a BertForSequenceClassification model).\n"
          ]
        }
      ]
    },
    {
      "cell_type": "markdown",
      "source": [
        "#Example Question"
      ],
      "metadata": {
        "id": "X5CxxDKTvxP8"
      }
    },
    {
      "cell_type": "code",
      "source": [
        "import time\n",
        "import torch\n",
        "\n",
        "t0 = time.time()\n",
        "\n",
        "\n",
        "question = \"What is PAN?\"\n",
        "#Tokenize nthe question\n",
        "input_ids = tokenizer.question_encoder(question)['input_ids']\n",
        "\n",
        "input_ids = torch.tensor(input_ids).unsqueeze(0)\n",
        "#Give the question to RAG have have it generate an answer\n",
        "generated = model.generate(input_ids)\n",
        "\n",
        "#Convert the answer tokens back inpt a single string\n",
        "generated_string = tokenizer.batch_decode(generated, skip_special_token=True)[0]\n",
        "\n",
        "print(\"Q: \" + question)\n",
        "print(\"A: \" + generated_string)\n",
        "\n",
        "print(\"\\n Response took %.2f seconds\" %(time.time() - t0))"
      ],
      "metadata": {
        "id": "urDq6S-rvdw2"
      },
      "execution_count": null,
      "outputs": []
    },
    {
      "cell_type": "code",
      "source": [],
      "metadata": {
        "id": "NqqxZXdZwfzv"
      },
      "execution_count": null,
      "outputs": []
    }
  ],
  "metadata": {
    "accelerator": "GPU",
    "colab": {
      "provenance": []
    },
    "kernelspec": {
      "display_name": "Python 3",
      "name": "python3"
    },
    "language_info": {
      "name": "python"
    },
    "widgets": {
      "application/vnd.jupyter.widget-state+json": {
        "e61df5389bae4a52923aa347664b2c93": {
          "model_module": "@jupyter-widgets/controls",
          "model_name": "HBoxModel",
          "model_module_version": "1.5.0",
          "state": {
            "_dom_classes": [],
            "_model_module": "@jupyter-widgets/controls",
            "_model_module_version": "1.5.0",
            "_model_name": "HBoxModel",
            "_view_count": null,
            "_view_module": "@jupyter-widgets/controls",
            "_view_module_version": "1.5.0",
            "_view_name": "HBoxView",
            "box_style": "",
            "children": [
              "IPY_MODEL_da1c4c686db3480888e69e72ab25dd6c",
              "IPY_MODEL_65a551051019407faf6392eb1c1bef81",
              "IPY_MODEL_04113814c5914189b3df22742f1ec489"
            ],
            "layout": "IPY_MODEL_138ff34eea094562a151cdf973533197"
          }
        },
        "da1c4c686db3480888e69e72ab25dd6c": {
          "model_module": "@jupyter-widgets/controls",
          "model_name": "HTMLModel",
          "model_module_version": "1.5.0",
          "state": {
            "_dom_classes": [],
            "_model_module": "@jupyter-widgets/controls",
            "_model_module_version": "1.5.0",
            "_model_name": "HTMLModel",
            "_view_count": null,
            "_view_module": "@jupyter-widgets/controls",
            "_view_module_version": "1.5.0",
            "_view_name": "HTMLView",
            "description": "",
            "description_tooltip": null,
            "layout": "IPY_MODEL_aaf8e69150c84e7585babd4021c2077e",
            "placeholder": "​",
            "style": "IPY_MODEL_8b4db4a4fa174d2896f5be85d03ec789",
            "value": "100%"
          }
        },
        "65a551051019407faf6392eb1c1bef81": {
          "model_module": "@jupyter-widgets/controls",
          "model_name": "FloatProgressModel",
          "model_module_version": "1.5.0",
          "state": {
            "_dom_classes": [],
            "_model_module": "@jupyter-widgets/controls",
            "_model_module_version": "1.5.0",
            "_model_name": "FloatProgressModel",
            "_view_count": null,
            "_view_module": "@jupyter-widgets/controls",
            "_view_module_version": "1.5.0",
            "_view_name": "ProgressView",
            "bar_style": "success",
            "description": "",
            "description_tooltip": null,
            "layout": "IPY_MODEL_bf1ab1f09b6f408aa972851189438972",
            "max": 1,
            "min": 0,
            "orientation": "horizontal",
            "style": "IPY_MODEL_70b13ee465c2433b89ac723801596227",
            "value": 1
          }
        },
        "04113814c5914189b3df22742f1ec489": {
          "model_module": "@jupyter-widgets/controls",
          "model_name": "HTMLModel",
          "model_module_version": "1.5.0",
          "state": {
            "_dom_classes": [],
            "_model_module": "@jupyter-widgets/controls",
            "_model_module_version": "1.5.0",
            "_model_name": "HTMLModel",
            "_view_count": null,
            "_view_module": "@jupyter-widgets/controls",
            "_view_module_version": "1.5.0",
            "_view_name": "HTMLView",
            "description": "",
            "description_tooltip": null,
            "layout": "IPY_MODEL_d6902fad7af54aa58d19ca211a2e0add",
            "placeholder": "​",
            "style": "IPY_MODEL_2476e12744d44174a85b0525a8a5a587",
            "value": " 1/1 [00:00&lt;00:00, 27.97it/s]"
          }
        },
        "138ff34eea094562a151cdf973533197": {
          "model_module": "@jupyter-widgets/base",
          "model_name": "LayoutModel",
          "model_module_version": "1.2.0",
          "state": {
            "_model_module": "@jupyter-widgets/base",
            "_model_module_version": "1.2.0",
            "_model_name": "LayoutModel",
            "_view_count": null,
            "_view_module": "@jupyter-widgets/base",
            "_view_module_version": "1.2.0",
            "_view_name": "LayoutView",
            "align_content": null,
            "align_items": null,
            "align_self": null,
            "border": null,
            "bottom": null,
            "display": null,
            "flex": null,
            "flex_flow": null,
            "grid_area": null,
            "grid_auto_columns": null,
            "grid_auto_flow": null,
            "grid_auto_rows": null,
            "grid_column": null,
            "grid_gap": null,
            "grid_row": null,
            "grid_template_areas": null,
            "grid_template_columns": null,
            "grid_template_rows": null,
            "height": null,
            "justify_content": null,
            "justify_items": null,
            "left": null,
            "margin": null,
            "max_height": null,
            "max_width": null,
            "min_height": null,
            "min_width": null,
            "object_fit": null,
            "object_position": null,
            "order": null,
            "overflow": null,
            "overflow_x": null,
            "overflow_y": null,
            "padding": null,
            "right": null,
            "top": null,
            "visibility": null,
            "width": null
          }
        },
        "aaf8e69150c84e7585babd4021c2077e": {
          "model_module": "@jupyter-widgets/base",
          "model_name": "LayoutModel",
          "model_module_version": "1.2.0",
          "state": {
            "_model_module": "@jupyter-widgets/base",
            "_model_module_version": "1.2.0",
            "_model_name": "LayoutModel",
            "_view_count": null,
            "_view_module": "@jupyter-widgets/base",
            "_view_module_version": "1.2.0",
            "_view_name": "LayoutView",
            "align_content": null,
            "align_items": null,
            "align_self": null,
            "border": null,
            "bottom": null,
            "display": null,
            "flex": null,
            "flex_flow": null,
            "grid_area": null,
            "grid_auto_columns": null,
            "grid_auto_flow": null,
            "grid_auto_rows": null,
            "grid_column": null,
            "grid_gap": null,
            "grid_row": null,
            "grid_template_areas": null,
            "grid_template_columns": null,
            "grid_template_rows": null,
            "height": null,
            "justify_content": null,
            "justify_items": null,
            "left": null,
            "margin": null,
            "max_height": null,
            "max_width": null,
            "min_height": null,
            "min_width": null,
            "object_fit": null,
            "object_position": null,
            "order": null,
            "overflow": null,
            "overflow_x": null,
            "overflow_y": null,
            "padding": null,
            "right": null,
            "top": null,
            "visibility": null,
            "width": null
          }
        },
        "8b4db4a4fa174d2896f5be85d03ec789": {
          "model_module": "@jupyter-widgets/controls",
          "model_name": "DescriptionStyleModel",
          "model_module_version": "1.5.0",
          "state": {
            "_model_module": "@jupyter-widgets/controls",
            "_model_module_version": "1.5.0",
            "_model_name": "DescriptionStyleModel",
            "_view_count": null,
            "_view_module": "@jupyter-widgets/base",
            "_view_module_version": "1.2.0",
            "_view_name": "StyleView",
            "description_width": ""
          }
        },
        "bf1ab1f09b6f408aa972851189438972": {
          "model_module": "@jupyter-widgets/base",
          "model_name": "LayoutModel",
          "model_module_version": "1.2.0",
          "state": {
            "_model_module": "@jupyter-widgets/base",
            "_model_module_version": "1.2.0",
            "_model_name": "LayoutModel",
            "_view_count": null,
            "_view_module": "@jupyter-widgets/base",
            "_view_module_version": "1.2.0",
            "_view_name": "LayoutView",
            "align_content": null,
            "align_items": null,
            "align_self": null,
            "border": null,
            "bottom": null,
            "display": null,
            "flex": null,
            "flex_flow": null,
            "grid_area": null,
            "grid_auto_columns": null,
            "grid_auto_flow": null,
            "grid_auto_rows": null,
            "grid_column": null,
            "grid_gap": null,
            "grid_row": null,
            "grid_template_areas": null,
            "grid_template_columns": null,
            "grid_template_rows": null,
            "height": null,
            "justify_content": null,
            "justify_items": null,
            "left": null,
            "margin": null,
            "max_height": null,
            "max_width": null,
            "min_height": null,
            "min_width": null,
            "object_fit": null,
            "object_position": null,
            "order": null,
            "overflow": null,
            "overflow_x": null,
            "overflow_y": null,
            "padding": null,
            "right": null,
            "top": null,
            "visibility": null,
            "width": null
          }
        },
        "70b13ee465c2433b89ac723801596227": {
          "model_module": "@jupyter-widgets/controls",
          "model_name": "ProgressStyleModel",
          "model_module_version": "1.5.0",
          "state": {
            "_model_module": "@jupyter-widgets/controls",
            "_model_module_version": "1.5.0",
            "_model_name": "ProgressStyleModel",
            "_view_count": null,
            "_view_module": "@jupyter-widgets/base",
            "_view_module_version": "1.2.0",
            "_view_name": "StyleView",
            "bar_color": null,
            "description_width": ""
          }
        },
        "d6902fad7af54aa58d19ca211a2e0add": {
          "model_module": "@jupyter-widgets/base",
          "model_name": "LayoutModel",
          "model_module_version": "1.2.0",
          "state": {
            "_model_module": "@jupyter-widgets/base",
            "_model_module_version": "1.2.0",
            "_model_name": "LayoutModel",
            "_view_count": null,
            "_view_module": "@jupyter-widgets/base",
            "_view_module_version": "1.2.0",
            "_view_name": "LayoutView",
            "align_content": null,
            "align_items": null,
            "align_self": null,
            "border": null,
            "bottom": null,
            "display": null,
            "flex": null,
            "flex_flow": null,
            "grid_area": null,
            "grid_auto_columns": null,
            "grid_auto_flow": null,
            "grid_auto_rows": null,
            "grid_column": null,
            "grid_gap": null,
            "grid_row": null,
            "grid_template_areas": null,
            "grid_template_columns": null,
            "grid_template_rows": null,
            "height": null,
            "justify_content": null,
            "justify_items": null,
            "left": null,
            "margin": null,
            "max_height": null,
            "max_width": null,
            "min_height": null,
            "min_width": null,
            "object_fit": null,
            "object_position": null,
            "order": null,
            "overflow": null,
            "overflow_x": null,
            "overflow_y": null,
            "padding": null,
            "right": null,
            "top": null,
            "visibility": null,
            "width": null
          }
        },
        "2476e12744d44174a85b0525a8a5a587": {
          "model_module": "@jupyter-widgets/controls",
          "model_name": "DescriptionStyleModel",
          "model_module_version": "1.5.0",
          "state": {
            "_model_module": "@jupyter-widgets/controls",
            "_model_module_version": "1.5.0",
            "_model_name": "DescriptionStyleModel",
            "_view_count": null,
            "_view_module": "@jupyter-widgets/base",
            "_view_module_version": "1.2.0",
            "_view_name": "StyleView",
            "description_width": ""
          }
        }
      }
    }
  },
  "nbformat": 4,
  "nbformat_minor": 0
}